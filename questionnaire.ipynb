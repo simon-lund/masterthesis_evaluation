{
 "cells": [
  {
   "cell_type": "code",
   "execution_count": 1,
   "id": "ffd1df79-d012-4718-9889-ff1d35b8ca85",
   "metadata": {},
   "outputs": [
    {
     "name": "stdout",
     "output_type": "stream",
     "text": [
      "Requirement already satisfied: numpy==1.26.4 in /home/simon/miniconda3/lib/python3.10/site-packages (1.26.4)\n",
      "\n",
      "\u001b[1m[\u001b[0m\u001b[34;49mnotice\u001b[0m\u001b[1;39;49m]\u001b[0m\u001b[39;49m A new release of pip is available: \u001b[0m\u001b[31;49m23.3.2\u001b[0m\u001b[39;49m -> \u001b[0m\u001b[32;49m24.3.1\u001b[0m\n",
      "\u001b[1m[\u001b[0m\u001b[34;49mnotice\u001b[0m\u001b[1;39;49m]\u001b[0m\u001b[39;49m To update, run: \u001b[0m\u001b[32;49mpython -m pip install --upgrade pip\u001b[0m\n",
      "Note: you may need to restart the kernel to use updated packages.\n",
      "Requirement already satisfied: pandas==2.1.4 in /home/simon/miniconda3/lib/python3.10/site-packages (2.1.4)\n",
      "Requirement already satisfied: numpy<2,>=1.22.4 in /home/simon/miniconda3/lib/python3.10/site-packages (from pandas==2.1.4) (1.26.4)\n",
      "Requirement already satisfied: python-dateutil>=2.8.2 in /home/simon/miniconda3/lib/python3.10/site-packages (from pandas==2.1.4) (2.9.0.post0)\n",
      "Requirement already satisfied: pytz>=2020.1 in /home/simon/miniconda3/lib/python3.10/site-packages (from pandas==2.1.4) (2024.1)\n",
      "Requirement already satisfied: tzdata>=2022.1 in /home/simon/miniconda3/lib/python3.10/site-packages (from pandas==2.1.4) (2023.3)\n",
      "Requirement already satisfied: six>=1.5 in /home/simon/miniconda3/lib/python3.10/site-packages (from python-dateutil>=2.8.2->pandas==2.1.4) (1.16.0)\n",
      "\n",
      "\u001b[1m[\u001b[0m\u001b[34;49mnotice\u001b[0m\u001b[1;39;49m]\u001b[0m\u001b[39;49m A new release of pip is available: \u001b[0m\u001b[31;49m23.3.2\u001b[0m\u001b[39;49m -> \u001b[0m\u001b[32;49m24.3.1\u001b[0m\n",
      "\u001b[1m[\u001b[0m\u001b[34;49mnotice\u001b[0m\u001b[1;39;49m]\u001b[0m\u001b[39;49m To update, run: \u001b[0m\u001b[32;49mpython -m pip install --upgrade pip\u001b[0m\n",
      "Note: you may need to restart the kernel to use updated packages.\n",
      "Requirement already satisfied: seaborn==0.13.2 in /home/simon/miniconda3/lib/python3.10/site-packages (0.13.2)\n",
      "Requirement already satisfied: numpy!=1.24.0,>=1.20 in /home/simon/miniconda3/lib/python3.10/site-packages (from seaborn==0.13.2) (1.26.4)\n",
      "Requirement already satisfied: pandas>=1.2 in /home/simon/miniconda3/lib/python3.10/site-packages (from seaborn==0.13.2) (2.1.4)\n",
      "Requirement already satisfied: matplotlib!=3.6.1,>=3.4 in /home/simon/.local/lib/python3.10/site-packages (from seaborn==0.13.2) (3.7.0)\n",
      "Requirement already satisfied: contourpy>=1.0.1 in /home/simon/.local/lib/python3.10/site-packages (from matplotlib!=3.6.1,>=3.4->seaborn==0.13.2) (1.0.7)\n",
      "Requirement already satisfied: cycler>=0.10 in /home/simon/.local/lib/python3.10/site-packages (from matplotlib!=3.6.1,>=3.4->seaborn==0.13.2) (0.11.0)\n",
      "Requirement already satisfied: fonttools>=4.22.0 in /home/simon/.local/lib/python3.10/site-packages (from matplotlib!=3.6.1,>=3.4->seaborn==0.13.2) (4.38.0)\n",
      "Requirement already satisfied: kiwisolver>=1.0.1 in /home/simon/.local/lib/python3.10/site-packages (from matplotlib!=3.6.1,>=3.4->seaborn==0.13.2) (1.4.4)\n",
      "Requirement already satisfied: packaging>=20.0 in /home/simon/miniconda3/lib/python3.10/site-packages (from matplotlib!=3.6.1,>=3.4->seaborn==0.13.2) (24.2)\n",
      "Requirement already satisfied: pillow>=6.2.0 in /home/simon/miniconda3/lib/python3.10/site-packages (from matplotlib!=3.6.1,>=3.4->seaborn==0.13.2) (10.3.0)\n",
      "Requirement already satisfied: pyparsing>=2.3.1 in /home/simon/miniconda3/lib/python3.10/site-packages (from matplotlib!=3.6.1,>=3.4->seaborn==0.13.2) (3.2.0)\n",
      "Requirement already satisfied: python-dateutil>=2.7 in /home/simon/miniconda3/lib/python3.10/site-packages (from matplotlib!=3.6.1,>=3.4->seaborn==0.13.2) (2.9.0.post0)\n",
      "Requirement already satisfied: pytz>=2020.1 in /home/simon/miniconda3/lib/python3.10/site-packages (from pandas>=1.2->seaborn==0.13.2) (2024.1)\n",
      "Requirement already satisfied: tzdata>=2022.1 in /home/simon/miniconda3/lib/python3.10/site-packages (from pandas>=1.2->seaborn==0.13.2) (2023.3)\n",
      "Requirement already satisfied: six>=1.5 in /home/simon/miniconda3/lib/python3.10/site-packages (from python-dateutil>=2.7->matplotlib!=3.6.1,>=3.4->seaborn==0.13.2) (1.16.0)\n",
      "\n",
      "\u001b[1m[\u001b[0m\u001b[34;49mnotice\u001b[0m\u001b[1;39;49m]\u001b[0m\u001b[39;49m A new release of pip is available: \u001b[0m\u001b[31;49m23.3.2\u001b[0m\u001b[39;49m -> \u001b[0m\u001b[32;49m24.3.1\u001b[0m\n",
      "\u001b[1m[\u001b[0m\u001b[34;49mnotice\u001b[0m\u001b[1;39;49m]\u001b[0m\u001b[39;49m To update, run: \u001b[0m\u001b[32;49mpython -m pip install --upgrade pip\u001b[0m\n",
      "Note: you may need to restart the kernel to use updated packages.\n",
      "Requirement already satisfied: pingouin in /home/simon/miniconda3/lib/python3.10/site-packages (0.5.5)\n",
      "Requirement already satisfied: matplotlib in /home/simon/.local/lib/python3.10/site-packages (from pingouin) (3.7.0)\n",
      "Requirement already satisfied: numpy in /home/simon/miniconda3/lib/python3.10/site-packages (from pingouin) (1.26.4)\n",
      "Requirement already satisfied: pandas>=1.5 in /home/simon/miniconda3/lib/python3.10/site-packages (from pingouin) (2.1.4)\n",
      "Requirement already satisfied: pandas-flavor in /home/simon/miniconda3/lib/python3.10/site-packages (from pingouin) (0.6.0)\n",
      "Requirement already satisfied: scikit-learn>=1.2 in /home/simon/miniconda3/lib/python3.10/site-packages (from pingouin) (1.5.2)\n",
      "Requirement already satisfied: scipy in /home/simon/.local/lib/python3.10/site-packages (from pingouin) (1.10.1)\n",
      "Requirement already satisfied: seaborn in /home/simon/miniconda3/lib/python3.10/site-packages (from pingouin) (0.13.2)\n",
      "Requirement already satisfied: statsmodels in /home/simon/miniconda3/lib/python3.10/site-packages (from pingouin) (0.14.4)\n",
      "Requirement already satisfied: tabulate in /home/simon/miniconda3/lib/python3.10/site-packages (from pingouin) (0.9.0)\n",
      "Requirement already satisfied: python-dateutil>=2.8.2 in /home/simon/miniconda3/lib/python3.10/site-packages (from pandas>=1.5->pingouin) (2.9.0.post0)\n",
      "Requirement already satisfied: pytz>=2020.1 in /home/simon/miniconda3/lib/python3.10/site-packages (from pandas>=1.5->pingouin) (2024.1)\n",
      "Requirement already satisfied: tzdata>=2022.1 in /home/simon/miniconda3/lib/python3.10/site-packages (from pandas>=1.5->pingouin) (2023.3)\n",
      "Requirement already satisfied: joblib>=1.2.0 in /home/simon/miniconda3/lib/python3.10/site-packages (from scikit-learn>=1.2->pingouin) (1.4.2)\n",
      "Requirement already satisfied: threadpoolctl>=3.1.0 in /home/simon/miniconda3/lib/python3.10/site-packages (from scikit-learn>=1.2->pingouin) (3.5.0)\n",
      "Requirement already satisfied: contourpy>=1.0.1 in /home/simon/.local/lib/python3.10/site-packages (from matplotlib->pingouin) (1.0.7)\n",
      "Requirement already satisfied: cycler>=0.10 in /home/simon/.local/lib/python3.10/site-packages (from matplotlib->pingouin) (0.11.0)\n",
      "Requirement already satisfied: fonttools>=4.22.0 in /home/simon/.local/lib/python3.10/site-packages (from matplotlib->pingouin) (4.38.0)\n",
      "Requirement already satisfied: kiwisolver>=1.0.1 in /home/simon/.local/lib/python3.10/site-packages (from matplotlib->pingouin) (1.4.4)\n",
      "Requirement already satisfied: packaging>=20.0 in /home/simon/miniconda3/lib/python3.10/site-packages (from matplotlib->pingouin) (24.2)\n",
      "Requirement already satisfied: pillow>=6.2.0 in /home/simon/miniconda3/lib/python3.10/site-packages (from matplotlib->pingouin) (10.3.0)\n",
      "Requirement already satisfied: pyparsing>=2.3.1 in /home/simon/miniconda3/lib/python3.10/site-packages (from matplotlib->pingouin) (3.2.0)\n",
      "Requirement already satisfied: xarray in /home/simon/miniconda3/lib/python3.10/site-packages (from pandas-flavor->pingouin) (2024.11.0)\n",
      "Requirement already satisfied: patsy>=0.5.6 in /home/simon/miniconda3/lib/python3.10/site-packages (from statsmodels->pingouin) (1.0.1)\n",
      "Requirement already satisfied: six>=1.5 in /home/simon/miniconda3/lib/python3.10/site-packages (from python-dateutil>=2.8.2->pandas>=1.5->pingouin) (1.16.0)\n",
      "\n",
      "\u001b[1m[\u001b[0m\u001b[34;49mnotice\u001b[0m\u001b[1;39;49m]\u001b[0m\u001b[39;49m A new release of pip is available: \u001b[0m\u001b[31;49m23.3.2\u001b[0m\u001b[39;49m -> \u001b[0m\u001b[32;49m24.3.1\u001b[0m\n",
      "\u001b[1m[\u001b[0m\u001b[34;49mnotice\u001b[0m\u001b[1;39;49m]\u001b[0m\u001b[39;49m To update, run: \u001b[0m\u001b[32;49mpython -m pip install --upgrade pip\u001b[0m\n",
      "Note: you may need to restart the kernel to use updated packages.\n"
     ]
    }
   ],
   "source": [
    "%pip install numpy==1.26.4\n",
    "%pip install pandas==2.1.4\n",
    "%pip install seaborn==0.13.2\n",
    "%pip install pingouin"
   ]
  },
  {
   "cell_type": "markdown",
   "id": "c5890130-1759-4a02-967a-1d4bdf52f301",
   "metadata": {},
   "source": [
    "## Questionnaire\n",
    "\n",
    "As part of the quantitative analysis, the data from the questionnaire is evaluated to assess the impact of the pre-consent mechanism on user experience, specifically in terms of acceptance and usability. Quantifiable questions are analyzed statistically in this notebook, while free-text responses are summarized and interpreted as part of the broader master’s thesis. \n",
    "\n",
    "Except for the section on inferential statistics, the analysis presented here focuses on descriptive statistics to provide an overview of the collected data and identify patterns in participant responses."
   ]
  },
  {
   "cell_type": "code",
   "execution_count": 2,
   "id": "46463b96-0539-4fb0-b365-2ccd7d215dec",
   "metadata": {},
   "outputs": [],
   "source": [
    "import os\n",
    "import glob\n",
    "import re\n",
    "\n",
    "import pandas as pd\n",
    "import pingouin as pg\n",
    "import seaborn as sns\n",
    "\n",
    "from IPython.display import display, HTML, Markdown\n",
    "\n",
    "sns.set_theme()\n",
    "\n",
    "# Adjust Pandas display options to ensure full-width display\n",
    "pd.set_option('display.max_colwidth', None)  # No limit on column width\n",
    "pd.set_option('display.expand_frame_repr', False)  # Disable truncation of wide DataFrames\n",
    "pd.set_option('display.max_rows', None)  # Show all rows if necessary"
   ]
  },
  {
   "cell_type": "markdown",
   "id": "4e35a544-6e31-4836-9d52-475bfe6682a2",
   "metadata": {},
   "source": [
    "## Data Source\n",
    "\n",
    "The responses file of the participants is loaded from a CSV file and stored in a DataFrame for further analysis."
   ]
  },
  {
   "cell_type": "code",
   "execution_count": 3,
   "id": "4cb67c39-5161-43e8-ba04-d096ca8ff519",
   "metadata": {},
   "outputs": [
    {
     "data": {
      "text/html": [
       "<div>\n",
       "<style scoped>\n",
       "    .dataframe tbody tr th:only-of-type {\n",
       "        vertical-align: middle;\n",
       "    }\n",
       "\n",
       "    .dataframe tbody tr th {\n",
       "        vertical-align: top;\n",
       "    }\n",
       "\n",
       "    .dataframe thead th {\n",
       "        text-align: right;\n",
       "    }\n",
       "</style>\n",
       "<table border=\"1\" class=\"dataframe\">\n",
       "  <thead>\n",
       "    <tr style=\"text-align: right;\">\n",
       "      <th></th>\n",
       "      <th>Antwort ID</th>\n",
       "      <th>Datum Abgeschickt</th>\n",
       "      <th>Letzte Seite</th>\n",
       "      <th>Start-Sprache</th>\n",
       "      <th>Zufallsstartwert</th>\n",
       "      <th>Datum gestartet</th>\n",
       "      <th>Datum letzte Aktivität</th>\n",
       "      <th>Bitte geben Sie Ihr Geschlecht an.</th>\n",
       "      <th>Bitte geben Sie Ihr Alter in Jahren an.</th>\n",
       "      <th>Bitte geben Sie Ihre Gruppenzugehörigkeit an.</th>\n",
       "      <th>...</th>\n",
       "      <th>Bitte geben Sie den Grad Ihrer Zustimmung zu folgenden Aussagen an. [Ich finde, dass die verschiedenen Funktionen des Systems gut integriert sind.]</th>\n",
       "      <th>Bitte geben Sie den Grad Ihrer Zustimmung zu folgenden Aussagen an. [Ich kann mir vorstellen, dass die meisten Leute das System schnell zu beherrschen lernen.]</th>\n",
       "      <th>Bitte geben Sie den Grad Ihrer Zustimmung zu folgenden Aussagen an. [Ich habe mich bei der Nutzung des Systems sehr sicher gefühlt.]</th>\n",
       "      <th>Bitte geben Sie den Grad Ihrer Zustimmung zu folgenden Aussagen an. [Ich empfinde die Bedienung als sehr umständlich.]</th>\n",
       "      <th>Welches der beiden Systeme würden Sie bevorzugen?</th>\n",
       "      <th>Wie bewerten Sie den Pre-Consent-Mechanismus in Bezug auf seine Funktionalität und Benutzerfreundlichkeit?</th>\n",
       "      <th>Inwieweit würden sie dem gezeigten Pre-Consent Mechanismus vertrauen?</th>\n",
       "      <th>Haben Sie Verbesserungsvorschläge?</th>\n",
       "      <th>Haben Sie Bedenken hinsichtlich der Nutzung des Pre-Consent Mechanismus?</th>\n",
       "      <th>Gibt es etwas, das Sie uns gerne noch mitteilen möchten?(z.B. Anregungen, Ideen, Kritik oder Feedback)</th>\n",
       "    </tr>\n",
       "  </thead>\n",
       "  <tbody>\n",
       "    <tr>\n",
       "      <th>0</th>\n",
       "      <td>10</td>\n",
       "      <td>2024-11-27 13:54:16</td>\n",
       "      <td>8</td>\n",
       "      <td>de</td>\n",
       "      <td>1367034576</td>\n",
       "      <td>2024-11-27 13:42:04</td>\n",
       "      <td>2024-11-27 13:54:16</td>\n",
       "      <td>Männlich</td>\n",
       "      <td>24</td>\n",
       "      <td>Studierende</td>\n",
       "      <td>...</td>\n",
       "      <td>Trifft eher zu</td>\n",
       "      <td>Trifft vollständig zu</td>\n",
       "      <td>Trifft vollständig zu</td>\n",
       "      <td>Trifft gar nicht zu</td>\n",
       "      <td>App mit Pre-Consent</td>\n",
       "      <td>Sehr gut</td>\n",
       "      <td>Eher Vertrauen</td>\n",
       "      <td>beim preconsent klarer darstellen für welche entität er gilt, \\nbeim anzeigen von datenübertragung mit preconsent nochtmals auflisten welche daten übertragen wurden.\\ndaten direkt zeigen: kein Name, Vorname sondern den namen ausschreiben. zb Simon Lund, Student..</td>\n",
       "      <td>wenn mir nochmal gezeigt wird weelche daten übertragen wurden find ichs fair</td>\n",
       "      <td>history und erstmalige nutzung von consent usw.</td>\n",
       "    </tr>\n",
       "    <tr>\n",
       "      <th>1</th>\n",
       "      <td>11</td>\n",
       "      <td>2024-11-27 15:44:19</td>\n",
       "      <td>8</td>\n",
       "      <td>de</td>\n",
       "      <td>764710841</td>\n",
       "      <td>2024-11-27 15:20:20</td>\n",
       "      <td>2024-11-27 15:44:19</td>\n",
       "      <td>Männlich</td>\n",
       "      <td>40</td>\n",
       "      <td>Mitarbeiter</td>\n",
       "      <td>...</td>\n",
       "      <td>Trifft vollständig zu</td>\n",
       "      <td>Trifft eher zu</td>\n",
       "      <td>Trifft vollständig zu</td>\n",
       "      <td>Trifft gar nicht zu</td>\n",
       "      <td>App mit Pre-Consent</td>\n",
       "      <td>Gut</td>\n",
       "      <td>Eher Vertrauen</td>\n",
       "      <td>Bei größeren Schlangen oder anderen stressigen Situationen (z.B. Mensa) wäre es gut, wenn man an einem separat stehenden Terminal einmal in Ruhe die Abgefragten Felder durchgehen kann. Anschließesn greift der Pre-Consent</td>\n",
       "      <td>Eine einmalig unbedachte Zustimmung wirkt sich langfristig aus. Initiale zustimmung sollte nicht gehetzt erfolgen.\\nAnsonsten nein.</td>\n",
       "      <td>NaN</td>\n",
       "    </tr>\n",
       "    <tr>\n",
       "      <th>2</th>\n",
       "      <td>12</td>\n",
       "      <td>2024-11-27 19:34:27</td>\n",
       "      <td>8</td>\n",
       "      <td>de</td>\n",
       "      <td>1951665246</td>\n",
       "      <td>2024-11-27 19:16:13</td>\n",
       "      <td>2024-11-27 19:34:27</td>\n",
       "      <td>Weiblich</td>\n",
       "      <td>25</td>\n",
       "      <td>Studierende</td>\n",
       "      <td>...</td>\n",
       "      <td>Trifft eher zu</td>\n",
       "      <td>Trifft vollständig zu</td>\n",
       "      <td>Trifft eher zu</td>\n",
       "      <td>Trifft gar nicht zu</td>\n",
       "      <td>App mit Pre-Consent</td>\n",
       "      <td>Gut</td>\n",
       "      <td>Eher Vertrauen</td>\n",
       "      <td>NaN</td>\n",
       "      <td>Wenn man den Pre-Consent updatet, weil an verschiedenen Stellen der gleiche Betreiber verwendet wird, man aber nicht alle Infos automatisch immer mit allen Stellen des Betreibers teilen will und sich dessen nicht bewusst ist, dass es passieren kann.</td>\n",
       "      <td>NaN</td>\n",
       "    </tr>\n",
       "    <tr>\n",
       "      <th>3</th>\n",
       "      <td>13</td>\n",
       "      <td>2024-11-27 22:00:03</td>\n",
       "      <td>8</td>\n",
       "      <td>de</td>\n",
       "      <td>1918662232</td>\n",
       "      <td>2024-11-27 21:29:37</td>\n",
       "      <td>2024-11-27 22:00:03</td>\n",
       "      <td>Männlich</td>\n",
       "      <td>27</td>\n",
       "      <td>Studierende</td>\n",
       "      <td>...</td>\n",
       "      <td>Trifft eher zu</td>\n",
       "      <td>Trifft vollständig zu</td>\n",
       "      <td>Trifft vollständig zu</td>\n",
       "      <td>Trifft gar nicht zu</td>\n",
       "      <td>App mit Pre-Consent</td>\n",
       "      <td>Gut</td>\n",
       "      <td>Voll Vertrauen</td>\n",
       "      <td>Die Sprache sollte auf deutsch umstellbar sein.\\nWenn Expiry Date (oder alle Felder) könnten auch im Prozess den aktuellen Wert anzeigen, um mich zu erinnern.\\nPre-consents sollten auch Feld-weise und nicht nur Verifizierer-weise löschbar sein.\\nAuch bei eingestelltem pre-consent können zusammen mit dem grünen Haken die übertragenen Felder kurz angezeigt werden.</td>\n",
       "      <td>Ich finde, der pre-consent sollte unabhängig von der Nutzung eine lifetime von ca. 60 Tagen haben. Alle 60 Tage muss ich also ihn erneut erteilen.</td>\n",
       "      <td>Der Zweck (ID, Studistatus, Alter, etc.) sollte mit dastehen. (In echt habe ich ja keinen Wochenplan, wo es steht.)</td>\n",
       "    </tr>\n",
       "    <tr>\n",
       "      <th>4</th>\n",
       "      <td>14</td>\n",
       "      <td>2024-11-28 12:45:05</td>\n",
       "      <td>8</td>\n",
       "      <td>de</td>\n",
       "      <td>1029479343</td>\n",
       "      <td>2024-11-28 12:30:26</td>\n",
       "      <td>2024-11-28 12:45:05</td>\n",
       "      <td>Männlich</td>\n",
       "      <td>22</td>\n",
       "      <td>Studierende</td>\n",
       "      <td>...</td>\n",
       "      <td>Trifft eher zu</td>\n",
       "      <td>Trifft eher zu</td>\n",
       "      <td>Trifft eher zu</td>\n",
       "      <td>Trifft gar nicht zu</td>\n",
       "      <td>App mit Pre-Consent</td>\n",
       "      <td>Gut</td>\n",
       "      <td>Eher Vertrauen</td>\n",
       "      <td>Aufklärung über die Tatsache, dass bei neuen Datenattributen erneut eine pre consent abfrage für diesen Datentyp abgefragt wird; Möglichkeit zum widerruf des pre consents</td>\n",
       "      <td>als nutzer könnte man auf dauer vergessen, welche Daten dort gerade geteilt werden</td>\n",
       "      <td>NaN</td>\n",
       "    </tr>\n",
       "  </tbody>\n",
       "</table>\n",
       "<p>5 rows × 54 columns</p>\n",
       "</div>"
      ],
      "text/plain": [
       "   Antwort ID    Datum Abgeschickt  Letzte Seite Start-Sprache  Zufallsstartwert      Datum gestartet Datum letzte Aktivität Bitte geben Sie Ihr Geschlecht an.  Bitte geben Sie Ihr Alter in Jahren an. Bitte geben Sie Ihre Gruppenzugehörigkeit an.  ... Bitte geben Sie den Grad Ihrer Zustimmung zu folgenden Aussagen an. [Ich finde, dass die verschiedenen Funktionen des Systems gut integriert sind.] Bitte geben Sie den Grad Ihrer Zustimmung zu folgenden Aussagen an. [Ich kann mir vorstellen, dass die meisten Leute das System schnell zu beherrschen lernen.] Bitte geben Sie den Grad Ihrer Zustimmung zu folgenden Aussagen an. [Ich habe mich bei der Nutzung des Systems sehr sicher gefühlt.] Bitte geben Sie den Grad Ihrer Zustimmung zu folgenden Aussagen an. [Ich empfinde die Bedienung als sehr umständlich.] Welches der beiden Systeme würden Sie bevorzugen?  Wie bewerten Sie den Pre-Consent-Mechanismus in Bezug auf seine Funktionalität und Benutzerfreundlichkeit? Inwieweit würden sie dem gezeigten Pre-Consent Mechanismus vertrauen?                                                                                                                                                                                                                                                                                                                                            Haben Sie Verbesserungsvorschläge?                                                                                                                                                                                   Haben Sie Bedenken hinsichtlich der Nutzung des Pre-Consent Mechanismus?               Gibt es etwas, das Sie uns gerne noch mitteilen möchten?(z.B. Anregungen, Ideen, Kritik oder Feedback)\n",
       "0          10  2024-11-27 13:54:16             8            de        1367034576  2024-11-27 13:42:04    2024-11-27 13:54:16                           Männlich                                       24                                   Studierende  ...                                                                                                                                      Trifft eher zu                                                                                                                                           Trifft vollständig zu                                                                                                                Trifft vollständig zu                                                                                                    Trifft gar nicht zu                                App mit Pre-Consent                                                                                                   Sehr gut                                                        Eher Vertrauen                                                                                                       beim preconsent klarer darstellen für welche entität er gilt, \\nbeim anzeigen von datenübertragung mit preconsent nochtmals auflisten welche daten übertragen wurden.\\ndaten direkt zeigen: kein Name, Vorname sondern den namen ausschreiben. zb Simon Lund, Student..                                                                                                                                                                              wenn mir nochmal gezeigt wird weelche daten übertragen wurden find ichs fair                                                                      history und erstmalige nutzung von consent usw. \n",
       "1          11  2024-11-27 15:44:19             8            de         764710841  2024-11-27 15:20:20    2024-11-27 15:44:19                           Männlich                                       40                                   Mitarbeiter  ...                                                                                                                               Trifft vollständig zu                                                                                                                                                  Trifft eher zu                                                                                                                Trifft vollständig zu                                                                                                    Trifft gar nicht zu                                App mit Pre-Consent                                                                                                        Gut                                                        Eher Vertrauen                                                                                                                                                  Bei größeren Schlangen oder anderen stressigen Situationen (z.B. Mensa) wäre es gut, wenn man an einem separat stehenden Terminal einmal in Ruhe die Abgefragten Felder durchgehen kann. Anschließesn greift der Pre-Consent                                                                                                                        Eine einmalig unbedachte Zustimmung wirkt sich langfristig aus. Initiale zustimmung sollte nicht gehetzt erfolgen.\\nAnsonsten nein.                                                                                                                  NaN\n",
       "2          12  2024-11-27 19:34:27             8            de        1951665246  2024-11-27 19:16:13    2024-11-27 19:34:27                           Weiblich                                       25                                   Studierende  ...                                                                                                                                      Trifft eher zu                                                                                                                                           Trifft vollständig zu                                                                                                                       Trifft eher zu                                                                                                    Trifft gar nicht zu                                App mit Pre-Consent                                                                                                        Gut                                                        Eher Vertrauen                                                                                                                                                                                                                                                                                                                                                                           NaN  Wenn man den Pre-Consent updatet, weil an verschiedenen Stellen der gleiche Betreiber verwendet wird, man aber nicht alle Infos automatisch immer mit allen Stellen des Betreibers teilen will und sich dessen nicht bewusst ist, dass es passieren kann.                                                                                                                  NaN\n",
       "3          13  2024-11-27 22:00:03             8            de        1918662232  2024-11-27 21:29:37    2024-11-27 22:00:03                           Männlich                                       27                                   Studierende  ...                                                                                                                                      Trifft eher zu                                                                                                                                           Trifft vollständig zu                                                                                                                Trifft vollständig zu                                                                                                    Trifft gar nicht zu                                App mit Pre-Consent                                                                                                        Gut                                                        Voll Vertrauen  Die Sprache sollte auf deutsch umstellbar sein.\\nWenn Expiry Date (oder alle Felder) könnten auch im Prozess den aktuellen Wert anzeigen, um mich zu erinnern.\\nPre-consents sollten auch Feld-weise und nicht nur Verifizierer-weise löschbar sein.\\nAuch bei eingestelltem pre-consent können zusammen mit dem grünen Haken die übertragenen Felder kurz angezeigt werden.                                                                                                         Ich finde, der pre-consent sollte unabhängig von der Nutzung eine lifetime von ca. 60 Tagen haben. Alle 60 Tage muss ich also ihn erneut erteilen.  Der Zweck (ID, Studistatus, Alter, etc.) sollte mit dastehen. (In echt habe ich ja keinen Wochenplan, wo es steht.)\n",
       "4          14  2024-11-28 12:45:05             8            de        1029479343  2024-11-28 12:30:26    2024-11-28 12:45:05                           Männlich                                       22                                   Studierende  ...                                                                                                                                      Trifft eher zu                                                                                                                                                  Trifft eher zu                                                                                                                       Trifft eher zu                                                                                                    Trifft gar nicht zu                                App mit Pre-Consent                                                                                                        Gut                                                        Eher Vertrauen                                                                                                                                                                                                    Aufklärung über die Tatsache, dass bei neuen Datenattributen erneut eine pre consent abfrage für diesen Datentyp abgefragt wird; Möglichkeit zum widerruf des pre consents                                                                                                                                                                         als nutzer könnte man auf dauer vergessen, welche Daten dort gerade geteilt werden                                                                                                                  NaN\n",
       "\n",
       "[5 rows x 54 columns]"
      ]
     },
     "execution_count": 3,
     "metadata": {},
     "output_type": "execute_result"
    }
   ],
   "source": [
    "file_path = \"data/results-survey393144.csv\"\n",
    "\n",
    "# Load responses into a DataFrame\n",
    "raw_df = pd.read_csv(file_path)\n",
    "\n",
    "# Recoding Column Names\n",
    "\n",
    "\n",
    "# Display the first few rows to verify\n",
    "raw_df.head()"
   ]
  },
  {
   "cell_type": "markdown",
   "id": "4a5455c9-9fbb-495b-96f6-cd2ac95937fd",
   "metadata": {},
   "source": [
    "## Recoding Headers\n",
    "\n",
    "In this step, the original column names in the responses DataFrame are replaced with simpler labels that correspond to the data's meaning. This helps improve readability and ensures that the columns are properly identified in later analysis. Below is the mapping between the original column names and the new descriptive labels:"
   ]
  },
  {
   "cell_type": "code",
   "execution_count": 4,
   "id": "d37f0204-0c5e-482e-ae76-558497f34ed7",
   "metadata": {},
   "outputs": [
    {
     "data": {
      "text/html": [
       "<style type=\"text/css\">\n",
       "#T_32ea5_row0_col0, #T_32ea5_row0_col1, #T_32ea5_row1_col0, #T_32ea5_row1_col1, #T_32ea5_row2_col0, #T_32ea5_row2_col1, #T_32ea5_row3_col0, #T_32ea5_row3_col1, #T_32ea5_row4_col0, #T_32ea5_row4_col1, #T_32ea5_row5_col0, #T_32ea5_row5_col1, #T_32ea5_row6_col0, #T_32ea5_row6_col1, #T_32ea5_row7_col0, #T_32ea5_row7_col1, #T_32ea5_row8_col0, #T_32ea5_row8_col1, #T_32ea5_row9_col0, #T_32ea5_row9_col1, #T_32ea5_row10_col0, #T_32ea5_row10_col1, #T_32ea5_row11_col0, #T_32ea5_row11_col1, #T_32ea5_row12_col0, #T_32ea5_row12_col1, #T_32ea5_row13_col0, #T_32ea5_row13_col1, #T_32ea5_row14_col0, #T_32ea5_row14_col1, #T_32ea5_row15_col0, #T_32ea5_row15_col1, #T_32ea5_row16_col0, #T_32ea5_row16_col1, #T_32ea5_row17_col0, #T_32ea5_row17_col1, #T_32ea5_row18_col0, #T_32ea5_row18_col1, #T_32ea5_row19_col0, #T_32ea5_row19_col1, #T_32ea5_row20_col0, #T_32ea5_row20_col1, #T_32ea5_row21_col0, #T_32ea5_row21_col1, #T_32ea5_row22_col0, #T_32ea5_row22_col1, #T_32ea5_row23_col0, #T_32ea5_row23_col1, #T_32ea5_row24_col0, #T_32ea5_row24_col1, #T_32ea5_row25_col0, #T_32ea5_row25_col1, #T_32ea5_row26_col0, #T_32ea5_row26_col1, #T_32ea5_row27_col0, #T_32ea5_row27_col1, #T_32ea5_row28_col0, #T_32ea5_row28_col1, #T_32ea5_row29_col0, #T_32ea5_row29_col1, #T_32ea5_row30_col0, #T_32ea5_row30_col1, #T_32ea5_row31_col0, #T_32ea5_row31_col1, #T_32ea5_row32_col0, #T_32ea5_row32_col1, #T_32ea5_row33_col0, #T_32ea5_row33_col1, #T_32ea5_row34_col0, #T_32ea5_row34_col1, #T_32ea5_row35_col0, #T_32ea5_row35_col1, #T_32ea5_row36_col0, #T_32ea5_row36_col1, #T_32ea5_row37_col0, #T_32ea5_row37_col1, #T_32ea5_row38_col0, #T_32ea5_row38_col1, #T_32ea5_row39_col0, #T_32ea5_row39_col1, #T_32ea5_row40_col0, #T_32ea5_row40_col1, #T_32ea5_row41_col0, #T_32ea5_row41_col1, #T_32ea5_row42_col0, #T_32ea5_row42_col1, #T_32ea5_row43_col0, #T_32ea5_row43_col1, #T_32ea5_row44_col0, #T_32ea5_row44_col1, #T_32ea5_row45_col0, #T_32ea5_row45_col1, #T_32ea5_row46_col0, #T_32ea5_row46_col1, #T_32ea5_row47_col0, #T_32ea5_row47_col1, #T_32ea5_row48_col0, #T_32ea5_row48_col1, #T_32ea5_row49_col0, #T_32ea5_row49_col1, #T_32ea5_row50_col0, #T_32ea5_row50_col1, #T_32ea5_row51_col0, #T_32ea5_row51_col1, #T_32ea5_row52_col0, #T_32ea5_row52_col1, #T_32ea5_row53_col0, #T_32ea5_row53_col1 {\n",
       "  text-align: left;\n",
       "}\n",
       "</style>\n",
       "<table id=\"T_32ea5\">\n",
       "  <thead>\n",
       "    <tr>\n",
       "      <th class=\"blank level0\" >&nbsp;</th>\n",
       "      <th id=\"T_32ea5_level0_col0\" class=\"col_heading level0 col0\" >Abbreviated Label</th>\n",
       "      <th id=\"T_32ea5_level0_col1\" class=\"col_heading level0 col1\" >Original Label</th>\n",
       "    </tr>\n",
       "  </thead>\n",
       "  <tbody>\n",
       "    <tr>\n",
       "      <th id=\"T_32ea5_level0_row0\" class=\"row_heading level0 row0\" >0</th>\n",
       "      <td id=\"T_32ea5_row0_col0\" class=\"data row0 col0\" >Response_ID</td>\n",
       "      <td id=\"T_32ea5_row0_col1\" class=\"data row0 col1\" >Antwort ID</td>\n",
       "    </tr>\n",
       "    <tr>\n",
       "      <th id=\"T_32ea5_level0_row1\" class=\"row_heading level0 row1\" >1</th>\n",
       "      <td id=\"T_32ea5_row1_col0\" class=\"data row1 col0\" >Date_Submitted</td>\n",
       "      <td id=\"T_32ea5_row1_col1\" class=\"data row1 col1\" >Datum Abgeschickt</td>\n",
       "    </tr>\n",
       "    <tr>\n",
       "      <th id=\"T_32ea5_level0_row2\" class=\"row_heading level0 row2\" >2</th>\n",
       "      <td id=\"T_32ea5_row2_col0\" class=\"data row2 col0\" >Last_Page</td>\n",
       "      <td id=\"T_32ea5_row2_col1\" class=\"data row2 col1\" >Letzte Seite</td>\n",
       "    </tr>\n",
       "    <tr>\n",
       "      <th id=\"T_32ea5_level0_row3\" class=\"row_heading level0 row3\" >3</th>\n",
       "      <td id=\"T_32ea5_row3_col0\" class=\"data row3 col0\" >Start_Language</td>\n",
       "      <td id=\"T_32ea5_row3_col1\" class=\"data row3 col1\" >Start-Sprache</td>\n",
       "    </tr>\n",
       "    <tr>\n",
       "      <th id=\"T_32ea5_level0_row4\" class=\"row_heading level0 row4\" >4</th>\n",
       "      <td id=\"T_32ea5_row4_col0\" class=\"data row4 col0\" >Random_Start_Value</td>\n",
       "      <td id=\"T_32ea5_row4_col1\" class=\"data row4 col1\" >Zufallsstartwert</td>\n",
       "    </tr>\n",
       "    <tr>\n",
       "      <th id=\"T_32ea5_level0_row5\" class=\"row_heading level0 row5\" >5</th>\n",
       "      <td id=\"T_32ea5_row5_col0\" class=\"data row5 col0\" >Date_Started</td>\n",
       "      <td id=\"T_32ea5_row5_col1\" class=\"data row5 col1\" >Datum gestartet</td>\n",
       "    </tr>\n",
       "    <tr>\n",
       "      <th id=\"T_32ea5_level0_row6\" class=\"row_heading level0 row6\" >6</th>\n",
       "      <td id=\"T_32ea5_row6_col0\" class=\"data row6 col0\" >Date_Last_Activity</td>\n",
       "      <td id=\"T_32ea5_row6_col1\" class=\"data row6 col1\" >Datum letzte Aktivität</td>\n",
       "    </tr>\n",
       "    <tr>\n",
       "      <th id=\"T_32ea5_level0_row7\" class=\"row_heading level0 row7\" >7</th>\n",
       "      <td id=\"T_32ea5_row7_col0\" class=\"data row7 col0\" >Gender</td>\n",
       "      <td id=\"T_32ea5_row7_col1\" class=\"data row7 col1\" >Bitte geben Sie Ihr Geschlecht an.</td>\n",
       "    </tr>\n",
       "    <tr>\n",
       "      <th id=\"T_32ea5_level0_row8\" class=\"row_heading level0 row8\" >8</th>\n",
       "      <td id=\"T_32ea5_row8_col0\" class=\"data row8 col0\" >Age</td>\n",
       "      <td id=\"T_32ea5_row8_col1\" class=\"data row8 col1\" >Bitte geben Sie Ihr Alter in Jahren an.</td>\n",
       "    </tr>\n",
       "    <tr>\n",
       "      <th id=\"T_32ea5_level0_row9\" class=\"row_heading level0 row9\" >9</th>\n",
       "      <td id=\"T_32ea5_row9_col0\" class=\"data row9 col0\" >Group</td>\n",
       "      <td id=\"T_32ea5_row9_col1\" class=\"data row9 col1\" >Bitte geben Sie Ihre Gruppenzugehörigkeit an.</td>\n",
       "    </tr>\n",
       "    <tr>\n",
       "      <th id=\"T_32ea5_level0_row10\" class=\"row_heading level0 row10\" >10</th>\n",
       "      <td id=\"T_32ea5_row10_col0\" class=\"data row10 col0\" >TechAffinity_01</td>\n",
       "      <td id=\"T_32ea5_row10_col1\" class=\"data row10 col1\" >Bitte geben Sie den Grad Ihrer Zustimmung zu folgenden Aussagen an. [Ich beschäftige mich gern genauer mit technischen Systemen.]</td>\n",
       "    </tr>\n",
       "    <tr>\n",
       "      <th id=\"T_32ea5_level0_row11\" class=\"row_heading level0 row11\" >11</th>\n",
       "      <td id=\"T_32ea5_row11_col0\" class=\"data row11 col0\" >TechAffinity_02</td>\n",
       "      <td id=\"T_32ea5_row11_col1\" class=\"data row11 col1\" >Bitte geben Sie den Grad Ihrer Zustimmung zu folgenden Aussagen an. [Ich probiere gern die Funktionen neuer technischer Systeme aus.]</td>\n",
       "    </tr>\n",
       "    <tr>\n",
       "      <th id=\"T_32ea5_level0_row12\" class=\"row_heading level0 row12\" >12</th>\n",
       "      <td id=\"T_32ea5_row12_col0\" class=\"data row12 col0\" >TechAffinity_03</td>\n",
       "      <td id=\"T_32ea5_row12_col1\" class=\"data row12 col1\" >Bitte geben Sie den Grad Ihrer Zustimmung zu folgenden Aussagen an. [In erster Linie beschäftige ich mich mit technischen Systemen, weil ich muss.]</td>\n",
       "    </tr>\n",
       "    <tr>\n",
       "      <th id=\"T_32ea5_level0_row13\" class=\"row_heading level0 row13\" >13</th>\n",
       "      <td id=\"T_32ea5_row13_col0\" class=\"data row13 col0\" >TechAffinity_04</td>\n",
       "      <td id=\"T_32ea5_row13_col1\" class=\"data row13 col1\" >Bitte geben Sie den Grad Ihrer Zustimmung zu folgenden Aussagen an. [Wenn ich ein neues technisches System vor mir habe, probiere ich es intensiv aus.]</td>\n",
       "    </tr>\n",
       "    <tr>\n",
       "      <th id=\"T_32ea5_level0_row14\" class=\"row_heading level0 row14\" >14</th>\n",
       "      <td id=\"T_32ea5_row14_col0\" class=\"data row14 col0\" >TechAffinity_05</td>\n",
       "      <td id=\"T_32ea5_row14_col1\" class=\"data row14 col1\" >Bitte geben Sie den Grad Ihrer Zustimmung zu folgenden Aussagen an. [Ich verbringe sehr gern Zeit mit dem Kennenlernen eines neuen technischen Systems.]</td>\n",
       "    </tr>\n",
       "    <tr>\n",
       "      <th id=\"T_32ea5_level0_row15\" class=\"row_heading level0 row15\" >15</th>\n",
       "      <td id=\"T_32ea5_row15_col0\" class=\"data row15 col0\" >TechAffinity_06</td>\n",
       "      <td id=\"T_32ea5_row15_col1\" class=\"data row15 col1\" >Bitte geben Sie den Grad Ihrer Zustimmung zu folgenden Aussagen an. [Es genügt mir, dass ein technisches System funktioniert, mir ist es egal, wie oder warum.]</td>\n",
       "    </tr>\n",
       "    <tr>\n",
       "      <th id=\"T_32ea5_level0_row16\" class=\"row_heading level0 row16\" >16</th>\n",
       "      <td id=\"T_32ea5_row16_col0\" class=\"data row16 col0\" >TechAffinity_07</td>\n",
       "      <td id=\"T_32ea5_row16_col1\" class=\"data row16 col1\" >Bitte geben Sie den Grad Ihrer Zustimmung zu folgenden Aussagen an. [Ich versuche zu verstehen, wie ein technisches System genau funktioniert.]</td>\n",
       "    </tr>\n",
       "    <tr>\n",
       "      <th id=\"T_32ea5_level0_row17\" class=\"row_heading level0 row17\" >17</th>\n",
       "      <td id=\"T_32ea5_row17_col0\" class=\"data row17 col0\" >TechAffinity_08</td>\n",
       "      <td id=\"T_32ea5_row17_col1\" class=\"data row17 col1\" >Bitte geben Sie den Grad Ihrer Zustimmung zu folgenden Aussagen an. [Es genügt mir, die Grundfunktionen eines technischen Systems zu kennen.]</td>\n",
       "    </tr>\n",
       "    <tr>\n",
       "      <th id=\"T_32ea5_level0_row18\" class=\"row_heading level0 row18\" >18</th>\n",
       "      <td id=\"T_32ea5_row18_col0\" class=\"data row18 col0\" >TechAffinity_09</td>\n",
       "      <td id=\"T_32ea5_row18_col1\" class=\"data row18 col1\" >Bitte geben Sie den Grad Ihrer Zustimmung zu folgenden Aussagen an. [Ich versuche, die Möglichkeiten eines technischen Systems vollständig auszunutzen.]</td>\n",
       "    </tr>\n",
       "    <tr>\n",
       "      <th id=\"T_32ea5_level0_row19\" class=\"row_heading level0 row19\" >19</th>\n",
       "      <td id=\"T_32ea5_row19_col0\" class=\"data row19 col0\" >Data_Protection</td>\n",
       "      <td id=\"T_32ea5_row19_col1\" class=\"data row19 col1\" >Mir ist der Schutz meiner persönlichen Daten im digitalen Raum ein wichtiges Anliegen. </td>\n",
       "    </tr>\n",
       "    <tr>\n",
       "      <th id=\"T_32ea5_level0_row20\" class=\"row_heading level0 row20\" >20</th>\n",
       "      <td id=\"T_32ea5_row20_col0\" class=\"data row20 col0\" >NoPC_01</td>\n",
       "      <td id=\"T_32ea5_row20_col1\" class=\"data row20 col1\" >Inwiefern stimmen Sie den folgenden Aussagen zu. [Ich fand die Menge an Informationen überfordernd.]</td>\n",
       "    </tr>\n",
       "    <tr>\n",
       "      <th id=\"T_32ea5_level0_row21\" class=\"row_heading level0 row21\" >21</th>\n",
       "      <td id=\"T_32ea5_row21_col0\" class=\"data row21 col0\" >NoPC_02</td>\n",
       "      <td id=\"T_32ea5_row21_col1\" class=\"data row21 col1\" >Inwiefern stimmen Sie den folgenden Aussagen zu. [Ich fand die angezeigten Informationen verständlich.]</td>\n",
       "    </tr>\n",
       "    <tr>\n",
       "      <th id=\"T_32ea5_level0_row22\" class=\"row_heading level0 row22\" >22</th>\n",
       "      <td id=\"T_32ea5_row22_col0\" class=\"data row22 col0\" >NoPC_03</td>\n",
       "      <td id=\"T_32ea5_row22_col1\" class=\"data row22 col1\" >Inwiefern stimmen Sie den folgenden Aussagen zu. [Die Wiederholung der informierten Zustimmung hat mich gestört.]</td>\n",
       "    </tr>\n",
       "    <tr>\n",
       "      <th id=\"T_32ea5_level0_row23\" class=\"row_heading level0 row23\" >23</th>\n",
       "      <td id=\"T_32ea5_row23_col0\" class=\"data row23 col0\" >NoPC_04</td>\n",
       "      <td id=\"T_32ea5_row23_col1\" class=\"data row23 col1\" >Inwiefern stimmen Sie den folgenden Aussagen zu. [Die Wiederholung der informierten Zustimmung empfand ich als zu lang.]</td>\n",
       "    </tr>\n",
       "    <tr>\n",
       "      <th id=\"T_32ea5_level0_row24\" class=\"row_heading level0 row24\" >24</th>\n",
       "      <td id=\"T_32ea5_row24_col0\" class=\"data row24 col0\" >NoPC_05</td>\n",
       "      <td id=\"T_32ea5_row24_col1\" class=\"data row24 col1\" >Inwiefern stimmen Sie den folgenden Aussagen zu. [Das Erledigen der Aufgabe hat meine Konzentration beansprucht.]</td>\n",
       "    </tr>\n",
       "    <tr>\n",
       "      <th id=\"T_32ea5_level0_row25\" class=\"row_heading level0 row25\" >25</th>\n",
       "      <td id=\"T_32ea5_row25_col0\" class=\"data row25 col0\" >NoPC_Verifier</td>\n",
       "      <td id=\"T_32ea5_row25_col1\" class=\"data row25 col1\" >Haben unterschiedliche Betreiber (Verifizierer) Daten abgefragt?</td>\n",
       "    </tr>\n",
       "    <tr>\n",
       "      <th id=\"T_32ea5_level0_row26\" class=\"row_heading level0 row26\" >26</th>\n",
       "      <td id=\"T_32ea5_row26_col0\" class=\"data row26 col0\" >NoPC_Verifier_Open</td>\n",
       "      <td id=\"T_32ea5_row26_col1\" class=\"data row26 col1\" >Wenn ja, welche Betreiber (Verifizierer) haben Informationen abgefragt?</td>\n",
       "    </tr>\n",
       "    <tr>\n",
       "      <th id=\"T_32ea5_level0_row27\" class=\"row_heading level0 row27\" >27</th>\n",
       "      <td id=\"T_32ea5_row27_col0\" class=\"data row27 col0\" >NoPC_Question_WeeklyPlan</td>\n",
       "      <td id=\"T_32ea5_row27_col1\" class=\"data row27 col1\" >Frage zum Wochenplan</td>\n",
       "    </tr>\n",
       "    <tr>\n",
       "      <th id=\"T_32ea5_level0_row28\" class=\"row_heading level0 row28\" >28</th>\n",
       "      <td id=\"T_32ea5_row28_col0\" class=\"data row28 col0\" >NoPC_Transaction</td>\n",
       "      <td id=\"T_32ea5_row28_col1\" class=\"data row28 col1\" >Haben Sie bei bestimmten Transaktionen Datenfelder bemerkt, deren Abfrage Sie überrascht oder deren Abfrage Sie nicht erwartet haben?</td>\n",
       "    </tr>\n",
       "    <tr>\n",
       "      <th id=\"T_32ea5_level0_row29\" class=\"row_heading level0 row29\" >29</th>\n",
       "      <td id=\"T_32ea5_row29_col0\" class=\"data row29 col0\" >NoPC_Transaction_Open</td>\n",
       "      <td id=\"T_32ea5_row29_col1\" class=\"data row29 col1\" > Wenn ja, bei welchen Transaktionen hat sie die Abfrage von Datenfeldern überrascht und warum?</td>\n",
       "    </tr>\n",
       "    <tr>\n",
       "      <th id=\"T_32ea5_level0_row30\" class=\"row_heading level0 row30\" >30</th>\n",
       "      <td id=\"T_32ea5_row30_col0\" class=\"data row30 col0\" >PC_01</td>\n",
       "      <td id=\"T_32ea5_row30_col1\" class=\"data row30 col1\" >Inwiefern stimmen Sie den folgenden Aussagen zu. [Ich fand die Menge an Informationen überfordernd.].1</td>\n",
       "    </tr>\n",
       "    <tr>\n",
       "      <th id=\"T_32ea5_level0_row31\" class=\"row_heading level0 row31\" >31</th>\n",
       "      <td id=\"T_32ea5_row31_col0\" class=\"data row31 col0\" >PC_02</td>\n",
       "      <td id=\"T_32ea5_row31_col1\" class=\"data row31 col1\" >Inwiefern stimmen Sie den folgenden Aussagen zu. [Ich fand die angezeigten Informationen verständlich.].1</td>\n",
       "    </tr>\n",
       "    <tr>\n",
       "      <th id=\"T_32ea5_level0_row32\" class=\"row_heading level0 row32\" >32</th>\n",
       "      <td id=\"T_32ea5_row32_col0\" class=\"data row32 col0\" >PC_03</td>\n",
       "      <td id=\"T_32ea5_row32_col1\" class=\"data row32 col1\" >Inwiefern stimmen Sie den folgenden Aussagen zu. [Die Wiederholung der informierten Zustimmung hat mich gestört.].1</td>\n",
       "    </tr>\n",
       "    <tr>\n",
       "      <th id=\"T_32ea5_level0_row33\" class=\"row_heading level0 row33\" >33</th>\n",
       "      <td id=\"T_32ea5_row33_col0\" class=\"data row33 col0\" >PC_04</td>\n",
       "      <td id=\"T_32ea5_row33_col1\" class=\"data row33 col1\" >Inwiefern stimmen Sie den folgenden Aussagen zu. [Die Wiederholung der informierten Zustimmung empfand ich als zu lang.].1</td>\n",
       "    </tr>\n",
       "    <tr>\n",
       "      <th id=\"T_32ea5_level0_row34\" class=\"row_heading level0 row34\" >34</th>\n",
       "      <td id=\"T_32ea5_row34_col0\" class=\"data row34 col0\" >PC_05</td>\n",
       "      <td id=\"T_32ea5_row34_col1\" class=\"data row34 col1\" >Inwiefern stimmen Sie den folgenden Aussagen zu. [Das Erledigen der Aufgabe hat meine Konzentration beansprucht.].1</td>\n",
       "    </tr>\n",
       "    <tr>\n",
       "      <th id=\"T_32ea5_level0_row35\" class=\"row_heading level0 row35\" >35</th>\n",
       "      <td id=\"T_32ea5_row35_col0\" class=\"data row35 col0\" >PC_Verifier</td>\n",
       "      <td id=\"T_32ea5_row35_col1\" class=\"data row35 col1\" >Haben unterschiedliche Betreiber (Verifizierer) Daten abgefragt?.1</td>\n",
       "    </tr>\n",
       "    <tr>\n",
       "      <th id=\"T_32ea5_level0_row36\" class=\"row_heading level0 row36\" >36</th>\n",
       "      <td id=\"T_32ea5_row36_col0\" class=\"data row36 col0\" >PC_Verifier_Open</td>\n",
       "      <td id=\"T_32ea5_row36_col1\" class=\"data row36 col1\" >Wenn ja, welche Betreiber (Verifizierer) haben Informationen abgefragt?.1</td>\n",
       "    </tr>\n",
       "    <tr>\n",
       "      <th id=\"T_32ea5_level0_row37\" class=\"row_heading level0 row37\" >37</th>\n",
       "      <td id=\"T_32ea5_row37_col0\" class=\"data row37 col0\" >PC_Question_WeeklyPlan</td>\n",
       "      <td id=\"T_32ea5_row37_col1\" class=\"data row37 col1\" >Frage zum Wochenplan.1</td>\n",
       "    </tr>\n",
       "    <tr>\n",
       "      <th id=\"T_32ea5_level0_row38\" class=\"row_heading level0 row38\" >38</th>\n",
       "      <td id=\"T_32ea5_row38_col0\" class=\"data row38 col0\" >PC_Transaction</td>\n",
       "      <td id=\"T_32ea5_row38_col1\" class=\"data row38 col1\" >Haben Sie bei bestimmten Transaktionen Datenfelder bemerkt, deren Abfrage Sie überrascht oder deren Abfrage Sie nicht erwartet haben?.1</td>\n",
       "    </tr>\n",
       "    <tr>\n",
       "      <th id=\"T_32ea5_level0_row39\" class=\"row_heading level0 row39\" >39</th>\n",
       "      <td id=\"T_32ea5_row39_col0\" class=\"data row39 col0\" >PC_Transaction_Open</td>\n",
       "      <td id=\"T_32ea5_row39_col1\" class=\"data row39 col1\" > Wenn ja, bei welchen Transaktionen hat sie die Abfrage von Datenfeldern überrascht und warum?.1</td>\n",
       "    </tr>\n",
       "    <tr>\n",
       "      <th id=\"T_32ea5_level0_row40\" class=\"row_heading level0 row40\" >40</th>\n",
       "      <td id=\"T_32ea5_row40_col0\" class=\"data row40 col0\" >PC_SUS_01</td>\n",
       "      <td id=\"T_32ea5_row40_col1\" class=\"data row40 col1\" >Bitte geben Sie den Grad Ihrer Zustimmung zu folgenden Aussagen an. [Ich kann mir sehr gut vorstellen, das System regelmäßig zu nutzen.]</td>\n",
       "    </tr>\n",
       "    <tr>\n",
       "      <th id=\"T_32ea5_level0_row41\" class=\"row_heading level0 row41\" >41</th>\n",
       "      <td id=\"T_32ea5_row41_col0\" class=\"data row41 col0\" >PC_SUS_02</td>\n",
       "      <td id=\"T_32ea5_row41_col1\" class=\"data row41 col1\" >Bitte geben Sie den Grad Ihrer Zustimmung zu folgenden Aussagen an. [Ich empfinde das System als unnötig komplex.]</td>\n",
       "    </tr>\n",
       "    <tr>\n",
       "      <th id=\"T_32ea5_level0_row42\" class=\"row_heading level0 row42\" >42</th>\n",
       "      <td id=\"T_32ea5_row42_col0\" class=\"data row42 col0\" >PC_SUS_03</td>\n",
       "      <td id=\"T_32ea5_row42_col1\" class=\"data row42 col1\" >Bitte geben Sie den Grad Ihrer Zustimmung zu folgenden Aussagen an. [Ich empfinde das System als einfach zu nutzen.]</td>\n",
       "    </tr>\n",
       "    <tr>\n",
       "      <th id=\"T_32ea5_level0_row43\" class=\"row_heading level0 row43\" >43</th>\n",
       "      <td id=\"T_32ea5_row43_col0\" class=\"data row43 col0\" >PC_SUS_04</td>\n",
       "      <td id=\"T_32ea5_row43_col1\" class=\"data row43 col1\" >Bitte geben Sie den Grad Ihrer Zustimmung zu folgenden Aussagen an. [Ich brauche Hilfe, um das System zu verstehen.]</td>\n",
       "    </tr>\n",
       "    <tr>\n",
       "      <th id=\"T_32ea5_level0_row44\" class=\"row_heading level0 row44\" >44</th>\n",
       "      <td id=\"T_32ea5_row44_col0\" class=\"data row44 col0\" >PC_SUS_05</td>\n",
       "      <td id=\"T_32ea5_row44_col1\" class=\"data row44 col1\" >Bitte geben Sie den Grad Ihrer Zustimmung zu folgenden Aussagen an. [Ich finde, dass die verschiedenen Funktionen des Systems gut integriert sind.]</td>\n",
       "    </tr>\n",
       "    <tr>\n",
       "      <th id=\"T_32ea5_level0_row45\" class=\"row_heading level0 row45\" >45</th>\n",
       "      <td id=\"T_32ea5_row45_col0\" class=\"data row45 col0\" >PC_SUS_07</td>\n",
       "      <td id=\"T_32ea5_row45_col1\" class=\"data row45 col1\" >Bitte geben Sie den Grad Ihrer Zustimmung zu folgenden Aussagen an. [Ich kann mir vorstellen, dass die meisten Leute das System schnell zu beherrschen lernen.]</td>\n",
       "    </tr>\n",
       "    <tr>\n",
       "      <th id=\"T_32ea5_level0_row46\" class=\"row_heading level0 row46\" >46</th>\n",
       "      <td id=\"T_32ea5_row46_col0\" class=\"data row46 col0\" >PC_SUS_09</td>\n",
       "      <td id=\"T_32ea5_row46_col1\" class=\"data row46 col1\" >Bitte geben Sie den Grad Ihrer Zustimmung zu folgenden Aussagen an. [Ich habe mich bei der Nutzung des Systems sehr sicher gefühlt.]</td>\n",
       "    </tr>\n",
       "    <tr>\n",
       "      <th id=\"T_32ea5_level0_row47\" class=\"row_heading level0 row47\" >47</th>\n",
       "      <td id=\"T_32ea5_row47_col0\" class=\"data row47 col0\" >PC_SUS_08</td>\n",
       "      <td id=\"T_32ea5_row47_col1\" class=\"data row47 col1\" >Bitte geben Sie den Grad Ihrer Zustimmung zu folgenden Aussagen an. [Ich empfinde die Bedienung als sehr umständlich.]</td>\n",
       "    </tr>\n",
       "    <tr>\n",
       "      <th id=\"T_32ea5_level0_row48\" class=\"row_heading level0 row48\" >48</th>\n",
       "      <td id=\"T_32ea5_row48_col0\" class=\"data row48 col0\" >System_Preference</td>\n",
       "      <td id=\"T_32ea5_row48_col1\" class=\"data row48 col1\" >Welches der beiden Systeme würden Sie bevorzugen? </td>\n",
       "    </tr>\n",
       "    <tr>\n",
       "      <th id=\"T_32ea5_level0_row49\" class=\"row_heading level0 row49\" >49</th>\n",
       "      <td id=\"T_32ea5_row49_col0\" class=\"data row49 col0\" >PreConsent_Usability</td>\n",
       "      <td id=\"T_32ea5_row49_col1\" class=\"data row49 col1\" >Wie bewerten Sie den Pre-Consent-Mechanismus in Bezug auf seine Funktionalität und Benutzerfreundlichkeit?</td>\n",
       "    </tr>\n",
       "    <tr>\n",
       "      <th id=\"T_32ea5_level0_row50\" class=\"row_heading level0 row50\" >50</th>\n",
       "      <td id=\"T_32ea5_row50_col0\" class=\"data row50 col0\" >PreConsent_Trust</td>\n",
       "      <td id=\"T_32ea5_row50_col1\" class=\"data row50 col1\" >Inwieweit würden sie dem gezeigten Pre-Consent Mechanismus vertrauen?</td>\n",
       "    </tr>\n",
       "    <tr>\n",
       "      <th id=\"T_32ea5_level0_row51\" class=\"row_heading level0 row51\" >51</th>\n",
       "      <td id=\"T_32ea5_row51_col0\" class=\"data row51 col0\" >PreConsent_Improvement</td>\n",
       "      <td id=\"T_32ea5_row51_col1\" class=\"data row51 col1\" >Haben Sie Verbesserungsvorschläge?</td>\n",
       "    </tr>\n",
       "    <tr>\n",
       "      <th id=\"T_32ea5_level0_row52\" class=\"row_heading level0 row52\" >52</th>\n",
       "      <td id=\"T_32ea5_row52_col0\" class=\"data row52 col0\" >PreConsent_Concerns</td>\n",
       "      <td id=\"T_32ea5_row52_col1\" class=\"data row52 col1\" >Haben Sie Bedenken hinsichtlich der Nutzung des Pre-Consent Mechanismus?</td>\n",
       "    </tr>\n",
       "    <tr>\n",
       "      <th id=\"T_32ea5_level0_row53\" class=\"row_heading level0 row53\" >53</th>\n",
       "      <td id=\"T_32ea5_row53_col0\" class=\"data row53 col0\" >Feedback</td>\n",
       "      <td id=\"T_32ea5_row53_col1\" class=\"data row53 col1\" >Gibt es etwas, das Sie uns gerne noch mitteilen möchten?(z.B. Anregungen, Ideen, Kritik oder Feedback)</td>\n",
       "    </tr>\n",
       "  </tbody>\n",
       "</table>\n"
      ],
      "text/plain": [
       "<pandas.io.formats.style.Styler at 0x72d518dc67a0>"
      ]
     },
     "metadata": {},
     "output_type": "display_data"
    }
   ],
   "source": [
    "# Define the new column labels\n",
    "column_labels = [\n",
    "    \"Response_ID\", \"Date_Submitted\", \"Last_Page\", \"Start_Language\", \"Random_Start_Value\",\n",
    "    \"Date_Started\", \"Date_Last_Activity\", \"Gender\", \"Age\", \"Group\",\n",
    "    \"TechAffinity_01\", \"TechAffinity_02\", \"TechAffinity_03\", \"TechAffinity_04\",\n",
    "    \"TechAffinity_05\", \"TechAffinity_06\", \"TechAffinity_07\", \"TechAffinity_08\",\n",
    "    \"TechAffinity_09\", \"Data_Protection\", \"NoPC_01\", \"NoPC_02\", \"NoPC_03\", \"NoPC_04\", \"NoPC_05\",\n",
    "    \"NoPC_Verifier\", \"NoPC_Verifier_Open\", \"NoPC_Question_WeeklyPlan\", \"NoPC_Transaction\",\n",
    "    \"NoPC_Transaction_Open\", \"PC_01\", \"PC_02\", \"PC_03\", \"PC_04\", \"PC_05\",\n",
    "    \"PC_Verifier\", \"PC_Verifier_Open\", \"PC_Question_WeeklyPlan\", \"PC_Transaction\",\n",
    "    \"PC_Transaction_Open\", \n",
    "    # Questions encoded as in original SUS (see section on SUS below for more details) \n",
    "    #   - questions 6 and 10 are missing\n",
    "    #   - questions 8 and 9 were switched up in the questionnaire \n",
    "    \"PC_SUS_01\", \"PC_SUS_02\", \"PC_SUS_03\", \"PC_SUS_04\", \"PC_SUS_05\", \"PC_SUS_07\", \"PC_SUS_09\", \"PC_SUS_08\", \n",
    "    \"System_Preference\", \"PreConsent_Usability\", \"PreConsent_Trust\", \"PreConsent_Improvement\", \"PreConsent_Concerns\", \"Feedback\"\n",
    "]\n",
    "\n",
    "# Create a mapping DataFrame\n",
    "mapping_df = pd.DataFrame({\n",
    "    \"Abbreviated Label\": column_labels,              \n",
    "    \"Original Label\": raw_df.columns.tolist()\n",
    "})\n",
    "\n",
    "# Display the mapping\n",
    "display(mapping_df.style.set_properties(**{'text-align': 'left'}))\n",
    "\n",
    "# Save column mapping as csv\n",
    "mapping_df.to_csv('column_mapping.csv', index=False)\n",
    "\n",
    "\n",
    "def get_original_label(abbreviation, subquestion_only=False):\n",
    "    \"\"\"\n",
    "    Retrieve the original question label corresponding to an abbreviated column name.\n",
    "\n",
    "    :param abbreviation: The abbreviated column name (e.g., 'NoPC_01', 'PC_01').\n",
    "    :param subquestion_only: If True, extract and return only the text within brackets \n",
    "                              (e.g., '[Subquestion]') from the original label.\n",
    "    :return: The original question label or subquestion as a string, depending on the value of subquestion_only.\n",
    "    \"\"\"\n",
    "    original_label = mapping_df.loc[mapping_df['Abbreviated Label'] == abbreviation, 'Original Label'].values[0]\n",
    "\n",
    "    if subquestion_only:\n",
    "        return re.search(r'\\[(.*?)\\]', original_label).group(1)\n",
    "        \n",
    "    return original_label"
   ]
  },
  {
   "cell_type": "code",
   "execution_count": 5,
   "id": "72748585-1c0c-432b-a37b-919f14189e88",
   "metadata": {},
   "outputs": [
    {
     "data": {
      "text/html": [
       "<div>\n",
       "<style scoped>\n",
       "    .dataframe tbody tr th:only-of-type {\n",
       "        vertical-align: middle;\n",
       "    }\n",
       "\n",
       "    .dataframe tbody tr th {\n",
       "        vertical-align: top;\n",
       "    }\n",
       "\n",
       "    .dataframe thead th {\n",
       "        text-align: right;\n",
       "    }\n",
       "</style>\n",
       "<table border=\"1\" class=\"dataframe\">\n",
       "  <thead>\n",
       "    <tr style=\"text-align: right;\">\n",
       "      <th></th>\n",
       "      <th>Response_ID</th>\n",
       "      <th>Date_Submitted</th>\n",
       "      <th>Last_Page</th>\n",
       "      <th>Start_Language</th>\n",
       "      <th>Random_Start_Value</th>\n",
       "      <th>Date_Started</th>\n",
       "      <th>Date_Last_Activity</th>\n",
       "      <th>Gender</th>\n",
       "      <th>Age</th>\n",
       "      <th>Group</th>\n",
       "      <th>...</th>\n",
       "      <th>PC_SUS_05</th>\n",
       "      <th>PC_SUS_07</th>\n",
       "      <th>PC_SUS_09</th>\n",
       "      <th>PC_SUS_08</th>\n",
       "      <th>System_Preference</th>\n",
       "      <th>PreConsent_Usability</th>\n",
       "      <th>PreConsent_Trust</th>\n",
       "      <th>PreConsent_Improvement</th>\n",
       "      <th>PreConsent_Concerns</th>\n",
       "      <th>Feedback</th>\n",
       "    </tr>\n",
       "  </thead>\n",
       "  <tbody>\n",
       "    <tr>\n",
       "      <th>0</th>\n",
       "      <td>10</td>\n",
       "      <td>2024-11-27 13:54:16</td>\n",
       "      <td>8</td>\n",
       "      <td>de</td>\n",
       "      <td>1367034576</td>\n",
       "      <td>2024-11-27 13:42:04</td>\n",
       "      <td>2024-11-27 13:54:16</td>\n",
       "      <td>Männlich</td>\n",
       "      <td>24</td>\n",
       "      <td>Studierende</td>\n",
       "      <td>...</td>\n",
       "      <td>Trifft eher zu</td>\n",
       "      <td>Trifft vollständig zu</td>\n",
       "      <td>Trifft vollständig zu</td>\n",
       "      <td>Trifft gar nicht zu</td>\n",
       "      <td>App mit Pre-Consent</td>\n",
       "      <td>Sehr gut</td>\n",
       "      <td>Eher Vertrauen</td>\n",
       "      <td>beim preconsent klarer darstellen für welche entität er gilt, \\nbeim anzeigen von datenübertragung mit preconsent nochtmals auflisten welche daten übertragen wurden.\\ndaten direkt zeigen: kein Name, Vorname sondern den namen ausschreiben. zb Simon Lund, Student..</td>\n",
       "      <td>wenn mir nochmal gezeigt wird weelche daten übertragen wurden find ichs fair</td>\n",
       "      <td>history und erstmalige nutzung von consent usw.</td>\n",
       "    </tr>\n",
       "    <tr>\n",
       "      <th>1</th>\n",
       "      <td>11</td>\n",
       "      <td>2024-11-27 15:44:19</td>\n",
       "      <td>8</td>\n",
       "      <td>de</td>\n",
       "      <td>764710841</td>\n",
       "      <td>2024-11-27 15:20:20</td>\n",
       "      <td>2024-11-27 15:44:19</td>\n",
       "      <td>Männlich</td>\n",
       "      <td>40</td>\n",
       "      <td>Mitarbeiter</td>\n",
       "      <td>...</td>\n",
       "      <td>Trifft vollständig zu</td>\n",
       "      <td>Trifft eher zu</td>\n",
       "      <td>Trifft vollständig zu</td>\n",
       "      <td>Trifft gar nicht zu</td>\n",
       "      <td>App mit Pre-Consent</td>\n",
       "      <td>Gut</td>\n",
       "      <td>Eher Vertrauen</td>\n",
       "      <td>Bei größeren Schlangen oder anderen stressigen Situationen (z.B. Mensa) wäre es gut, wenn man an einem separat stehenden Terminal einmal in Ruhe die Abgefragten Felder durchgehen kann. Anschließesn greift der Pre-Consent</td>\n",
       "      <td>Eine einmalig unbedachte Zustimmung wirkt sich langfristig aus. Initiale zustimmung sollte nicht gehetzt erfolgen.\\nAnsonsten nein.</td>\n",
       "      <td>NaN</td>\n",
       "    </tr>\n",
       "    <tr>\n",
       "      <th>2</th>\n",
       "      <td>12</td>\n",
       "      <td>2024-11-27 19:34:27</td>\n",
       "      <td>8</td>\n",
       "      <td>de</td>\n",
       "      <td>1951665246</td>\n",
       "      <td>2024-11-27 19:16:13</td>\n",
       "      <td>2024-11-27 19:34:27</td>\n",
       "      <td>Weiblich</td>\n",
       "      <td>25</td>\n",
       "      <td>Studierende</td>\n",
       "      <td>...</td>\n",
       "      <td>Trifft eher zu</td>\n",
       "      <td>Trifft vollständig zu</td>\n",
       "      <td>Trifft eher zu</td>\n",
       "      <td>Trifft gar nicht zu</td>\n",
       "      <td>App mit Pre-Consent</td>\n",
       "      <td>Gut</td>\n",
       "      <td>Eher Vertrauen</td>\n",
       "      <td>NaN</td>\n",
       "      <td>Wenn man den Pre-Consent updatet, weil an verschiedenen Stellen der gleiche Betreiber verwendet wird, man aber nicht alle Infos automatisch immer mit allen Stellen des Betreibers teilen will und sich dessen nicht bewusst ist, dass es passieren kann.</td>\n",
       "      <td>NaN</td>\n",
       "    </tr>\n",
       "    <tr>\n",
       "      <th>3</th>\n",
       "      <td>13</td>\n",
       "      <td>2024-11-27 22:00:03</td>\n",
       "      <td>8</td>\n",
       "      <td>de</td>\n",
       "      <td>1918662232</td>\n",
       "      <td>2024-11-27 21:29:37</td>\n",
       "      <td>2024-11-27 22:00:03</td>\n",
       "      <td>Männlich</td>\n",
       "      <td>27</td>\n",
       "      <td>Studierende</td>\n",
       "      <td>...</td>\n",
       "      <td>Trifft eher zu</td>\n",
       "      <td>Trifft vollständig zu</td>\n",
       "      <td>Trifft vollständig zu</td>\n",
       "      <td>Trifft gar nicht zu</td>\n",
       "      <td>App mit Pre-Consent</td>\n",
       "      <td>Gut</td>\n",
       "      <td>Voll Vertrauen</td>\n",
       "      <td>Die Sprache sollte auf deutsch umstellbar sein.\\nWenn Expiry Date (oder alle Felder) könnten auch im Prozess den aktuellen Wert anzeigen, um mich zu erinnern.\\nPre-consents sollten auch Feld-weise und nicht nur Verifizierer-weise löschbar sein.\\nAuch bei eingestelltem pre-consent können zusammen mit dem grünen Haken die übertragenen Felder kurz angezeigt werden.</td>\n",
       "      <td>Ich finde, der pre-consent sollte unabhängig von der Nutzung eine lifetime von ca. 60 Tagen haben. Alle 60 Tage muss ich also ihn erneut erteilen.</td>\n",
       "      <td>Der Zweck (ID, Studistatus, Alter, etc.) sollte mit dastehen. (In echt habe ich ja keinen Wochenplan, wo es steht.)</td>\n",
       "    </tr>\n",
       "    <tr>\n",
       "      <th>4</th>\n",
       "      <td>14</td>\n",
       "      <td>2024-11-28 12:45:05</td>\n",
       "      <td>8</td>\n",
       "      <td>de</td>\n",
       "      <td>1029479343</td>\n",
       "      <td>2024-11-28 12:30:26</td>\n",
       "      <td>2024-11-28 12:45:05</td>\n",
       "      <td>Männlich</td>\n",
       "      <td>22</td>\n",
       "      <td>Studierende</td>\n",
       "      <td>...</td>\n",
       "      <td>Trifft eher zu</td>\n",
       "      <td>Trifft eher zu</td>\n",
       "      <td>Trifft eher zu</td>\n",
       "      <td>Trifft gar nicht zu</td>\n",
       "      <td>App mit Pre-Consent</td>\n",
       "      <td>Gut</td>\n",
       "      <td>Eher Vertrauen</td>\n",
       "      <td>Aufklärung über die Tatsache, dass bei neuen Datenattributen erneut eine pre consent abfrage für diesen Datentyp abgefragt wird; Möglichkeit zum widerruf des pre consents</td>\n",
       "      <td>als nutzer könnte man auf dauer vergessen, welche Daten dort gerade geteilt werden</td>\n",
       "      <td>NaN</td>\n",
       "    </tr>\n",
       "  </tbody>\n",
       "</table>\n",
       "<p>5 rows × 54 columns</p>\n",
       "</div>"
      ],
      "text/plain": [
       "   Response_ID       Date_Submitted  Last_Page Start_Language  Random_Start_Value         Date_Started   Date_Last_Activity    Gender  Age        Group  ...              PC_SUS_05              PC_SUS_07              PC_SUS_09            PC_SUS_08    System_Preference PreConsent_Usability PreConsent_Trust                                                                                                                                                                                                                                                                                                                                                        PreConsent_Improvement                                                                                                                                                                                                                                        PreConsent_Concerns                                                                                                             Feedback\n",
       "0           10  2024-11-27 13:54:16          8             de          1367034576  2024-11-27 13:42:04  2024-11-27 13:54:16  Männlich   24  Studierende  ...         Trifft eher zu  Trifft vollständig zu  Trifft vollständig zu  Trifft gar nicht zu  App mit Pre-Consent             Sehr gut   Eher Vertrauen                                                                                                       beim preconsent klarer darstellen für welche entität er gilt, \\nbeim anzeigen von datenübertragung mit preconsent nochtmals auflisten welche daten übertragen wurden.\\ndaten direkt zeigen: kein Name, Vorname sondern den namen ausschreiben. zb Simon Lund, Student..                                                                                                                                                                              wenn mir nochmal gezeigt wird weelche daten übertragen wurden find ichs fair                                                                      history und erstmalige nutzung von consent usw. \n",
       "1           11  2024-11-27 15:44:19          8             de           764710841  2024-11-27 15:20:20  2024-11-27 15:44:19  Männlich   40  Mitarbeiter  ...  Trifft vollständig zu         Trifft eher zu  Trifft vollständig zu  Trifft gar nicht zu  App mit Pre-Consent                  Gut   Eher Vertrauen                                                                                                                                                  Bei größeren Schlangen oder anderen stressigen Situationen (z.B. Mensa) wäre es gut, wenn man an einem separat stehenden Terminal einmal in Ruhe die Abgefragten Felder durchgehen kann. Anschließesn greift der Pre-Consent                                                                                                                        Eine einmalig unbedachte Zustimmung wirkt sich langfristig aus. Initiale zustimmung sollte nicht gehetzt erfolgen.\\nAnsonsten nein.                                                                                                                  NaN\n",
       "2           12  2024-11-27 19:34:27          8             de          1951665246  2024-11-27 19:16:13  2024-11-27 19:34:27  Weiblich   25  Studierende  ...         Trifft eher zu  Trifft vollständig zu         Trifft eher zu  Trifft gar nicht zu  App mit Pre-Consent                  Gut   Eher Vertrauen                                                                                                                                                                                                                                                                                                                                                                           NaN  Wenn man den Pre-Consent updatet, weil an verschiedenen Stellen der gleiche Betreiber verwendet wird, man aber nicht alle Infos automatisch immer mit allen Stellen des Betreibers teilen will und sich dessen nicht bewusst ist, dass es passieren kann.                                                                                                                  NaN\n",
       "3           13  2024-11-27 22:00:03          8             de          1918662232  2024-11-27 21:29:37  2024-11-27 22:00:03  Männlich   27  Studierende  ...         Trifft eher zu  Trifft vollständig zu  Trifft vollständig zu  Trifft gar nicht zu  App mit Pre-Consent                  Gut   Voll Vertrauen  Die Sprache sollte auf deutsch umstellbar sein.\\nWenn Expiry Date (oder alle Felder) könnten auch im Prozess den aktuellen Wert anzeigen, um mich zu erinnern.\\nPre-consents sollten auch Feld-weise und nicht nur Verifizierer-weise löschbar sein.\\nAuch bei eingestelltem pre-consent können zusammen mit dem grünen Haken die übertragenen Felder kurz angezeigt werden.                                                                                                         Ich finde, der pre-consent sollte unabhängig von der Nutzung eine lifetime von ca. 60 Tagen haben. Alle 60 Tage muss ich also ihn erneut erteilen.  Der Zweck (ID, Studistatus, Alter, etc.) sollte mit dastehen. (In echt habe ich ja keinen Wochenplan, wo es steht.)\n",
       "4           14  2024-11-28 12:45:05          8             de          1029479343  2024-11-28 12:30:26  2024-11-28 12:45:05  Männlich   22  Studierende  ...         Trifft eher zu         Trifft eher zu         Trifft eher zu  Trifft gar nicht zu  App mit Pre-Consent                  Gut   Eher Vertrauen                                                                                                                                                                                                    Aufklärung über die Tatsache, dass bei neuen Datenattributen erneut eine pre consent abfrage für diesen Datentyp abgefragt wird; Möglichkeit zum widerruf des pre consents                                                                                                                                                                         als nutzer könnte man auf dauer vergessen, welche Daten dort gerade geteilt werden                                                                                                                  NaN\n",
       "\n",
       "[5 rows x 54 columns]"
      ]
     },
     "execution_count": 5,
     "metadata": {},
     "output_type": "execute_result"
    }
   ],
   "source": [
    "# Recode the column names\n",
    "df = raw_df.copy()\n",
    "df.columns = column_labels\n",
    "\n",
    "# Display the first few rows to verify\n",
    "df.head()"
   ]
  },
  {
   "cell_type": "markdown",
   "id": "26f44906-f6ac-4102-b8d6-2329525d0618",
   "metadata": {},
   "source": [
    "## Demographic Characteristics\n",
    "\n",
    "This section provides an overview of the participants' demographic characteristics, including age, gender, and group affiliation (student/employee). The data is presented in tables showing the total number of participants for each category, along with the corresponding percentages. This allows for a clear understanding of the composition of the participant group and their distribution across these key demographic variables."
   ]
  },
  {
   "cell_type": "code",
   "execution_count": 6,
   "id": "91bcbefe-9509-40c2-a18c-71555d4b616c",
   "metadata": {},
   "outputs": [
    {
     "data": {
      "text/markdown": [
       "### Mean Age by Group"
      ],
      "text/plain": [
       "<IPython.core.display.Markdown object>"
      ]
     },
     "metadata": {},
     "output_type": "display_data"
    },
    {
     "data": {
      "text/html": [
       "<div>\n",
       "<style scoped>\n",
       "    .dataframe tbody tr th:only-of-type {\n",
       "        vertical-align: middle;\n",
       "    }\n",
       "\n",
       "    .dataframe tbody tr th {\n",
       "        vertical-align: top;\n",
       "    }\n",
       "\n",
       "    .dataframe thead th {\n",
       "        text-align: right;\n",
       "    }\n",
       "</style>\n",
       "<table border=\"1\" class=\"dataframe\">\n",
       "  <thead>\n",
       "    <tr style=\"text-align: right;\">\n",
       "      <th></th>\n",
       "      <th>Group</th>\n",
       "      <th>Mean Age</th>\n",
       "    </tr>\n",
       "  </thead>\n",
       "  <tbody>\n",
       "    <tr>\n",
       "      <th>0</th>\n",
       "      <td>Mitarbeiter</td>\n",
       "      <td>41.00</td>\n",
       "    </tr>\n",
       "    <tr>\n",
       "      <th>1</th>\n",
       "      <td>Studierende</td>\n",
       "      <td>24.36</td>\n",
       "    </tr>\n",
       "  </tbody>\n",
       "</table>\n",
       "</div>"
      ],
      "text/plain": [
       "         Group  Mean Age\n",
       "0  Mitarbeiter     41.00\n",
       "1  Studierende     24.36"
      ]
     },
     "metadata": {},
     "output_type": "display_data"
    }
   ],
   "source": [
    "# Calculate the mean age by group\n",
    "mean_age_by_group = df.groupby('Group')['Age'].mean().round(2)\n",
    "\n",
    "# Convert to a DataFrame for better display\n",
    "mean_age_table = mean_age_by_group.reset_index()\n",
    "mean_age_table.columns = ['Group', 'Mean Age']\n",
    "\n",
    "# Display the table with a caption\n",
    "display(Markdown(\"### Mean Age by Group\"))\n",
    "display(mean_age_table)"
   ]
  },
  {
   "cell_type": "code",
   "execution_count": 7,
   "id": "8f7b9c57-028c-428d-a604-a739b5d663a4",
   "metadata": {},
   "outputs": [
    {
     "data": {
      "text/markdown": [
       "### Gender Distribution"
      ],
      "text/plain": [
       "<IPython.core.display.Markdown object>"
      ]
     },
     "metadata": {},
     "output_type": "display_data"
    },
    {
     "data": {
      "text/html": [
       "<div>\n",
       "<style scoped>\n",
       "    .dataframe tbody tr th:only-of-type {\n",
       "        vertical-align: middle;\n",
       "    }\n",
       "\n",
       "    .dataframe tbody tr th {\n",
       "        vertical-align: top;\n",
       "    }\n",
       "\n",
       "    .dataframe thead th {\n",
       "        text-align: right;\n",
       "    }\n",
       "</style>\n",
       "<table border=\"1\" class=\"dataframe\">\n",
       "  <thead>\n",
       "    <tr style=\"text-align: right;\">\n",
       "      <th></th>\n",
       "      <th>Total</th>\n",
       "      <th>Percentage (%)</th>\n",
       "    </tr>\n",
       "    <tr>\n",
       "      <th>Gender</th>\n",
       "      <th></th>\n",
       "      <th></th>\n",
       "    </tr>\n",
       "  </thead>\n",
       "  <tbody>\n",
       "    <tr>\n",
       "      <th>Männlich</th>\n",
       "      <td>12</td>\n",
       "      <td>80.00</td>\n",
       "    </tr>\n",
       "    <tr>\n",
       "      <th>Weiblich</th>\n",
       "      <td>2</td>\n",
       "      <td>13.33</td>\n",
       "    </tr>\n",
       "    <tr>\n",
       "      <th>Divers</th>\n",
       "      <td>1</td>\n",
       "      <td>6.67</td>\n",
       "    </tr>\n",
       "  </tbody>\n",
       "</table>\n",
       "</div>"
      ],
      "text/plain": [
       "          Total  Percentage (%)\n",
       "Gender                         \n",
       "Männlich     12           80.00\n",
       "Weiblich      2           13.33\n",
       "Divers        1            6.67"
      ]
     },
     "metadata": {},
     "output_type": "display_data"
    }
   ],
   "source": [
    "# Gender Table (Geschlecht)\n",
    "gender_table = pd.DataFrame({\n",
    "    'Total': df['Gender'].value_counts(),\n",
    "    'Percentage (%)': df['Gender'].value_counts(normalize=True) * 100\n",
    "}).round(2)\n",
    "\n",
    "# Display Gender Table\n",
    "display(Markdown(\"### Gender Distribution\"))\n",
    "display(gender_table)"
   ]
  },
  {
   "cell_type": "code",
   "execution_count": 8,
   "id": "47244d29-2c2e-4c98-999e-cf6db84cc089",
   "metadata": {},
   "outputs": [
    {
     "data": {
      "text/markdown": [
       "### Group Affiliation Distribution"
      ],
      "text/plain": [
       "<IPython.core.display.Markdown object>"
      ]
     },
     "metadata": {},
     "output_type": "display_data"
    },
    {
     "data": {
      "text/html": [
       "<div>\n",
       "<style scoped>\n",
       "    .dataframe tbody tr th:only-of-type {\n",
       "        vertical-align: middle;\n",
       "    }\n",
       "\n",
       "    .dataframe tbody tr th {\n",
       "        vertical-align: top;\n",
       "    }\n",
       "\n",
       "    .dataframe thead th {\n",
       "        text-align: right;\n",
       "    }\n",
       "</style>\n",
       "<table border=\"1\" class=\"dataframe\">\n",
       "  <thead>\n",
       "    <tr style=\"text-align: right;\">\n",
       "      <th></th>\n",
       "      <th>Total</th>\n",
       "      <th>Percentage (%)</th>\n",
       "    </tr>\n",
       "    <tr>\n",
       "      <th>Group</th>\n",
       "      <th></th>\n",
       "      <th></th>\n",
       "    </tr>\n",
       "  </thead>\n",
       "  <tbody>\n",
       "    <tr>\n",
       "      <th>Studierende</th>\n",
       "      <td>11</td>\n",
       "      <td>73.33</td>\n",
       "    </tr>\n",
       "    <tr>\n",
       "      <th>Mitarbeiter</th>\n",
       "      <td>4</td>\n",
       "      <td>26.67</td>\n",
       "    </tr>\n",
       "  </tbody>\n",
       "</table>\n",
       "</div>"
      ],
      "text/plain": [
       "             Total  Percentage (%)\n",
       "Group                             \n",
       "Studierende     11           73.33\n",
       "Mitarbeiter      4           26.67"
      ]
     },
     "metadata": {},
     "output_type": "display_data"
    }
   ],
   "source": [
    "# Group Affiliation Table (Gruppe)\n",
    "group_table = pd.DataFrame({\n",
    "    'Total': df['Group'].value_counts(),\n",
    "    'Percentage (%)': df['Group'].value_counts(normalize=True) * 100\n",
    "}).round(2)\n",
    "\n",
    "# Display Group Affiliation Table\n",
    "display(Markdown(\"### Group Affiliation Distribution\"))\n",
    "display(group_table)"
   ]
  },
  {
   "cell_type": "markdown",
   "id": "d1215e51-6a2d-4c2b-9700-3a8511f4196f",
   "metadata": {},
   "source": [
    "## ATI Scale\n",
    "\n",
    "The **Affinity for Technology Interaction (ATI)** scale measures an individual's tendency to engage with and feel comfortable using technology. It consists of a set of standardized items designed to evaluate attitudes and preferences related to technology interaction. \n",
    "Participants respond to each item on a Likert scale, and the overall score represents their level of affinity for interacting with technology. A higher score indicates a stronger inclination toward interacting with technology and a greater level of comfort and confidence in using it.\n",
    "\n",
    "Cronbach's alpha was calculated to assess the internal consistency of the scale items in this dataset. The alpha coefficient for this sample was 0.89, indicating good reliability."
   ]
  },
  {
   "cell_type": "code",
   "execution_count": 9,
   "id": "88888cf4-5717-45a3-8062-d2cba0957b57",
   "metadata": {},
   "outputs": [
    {
     "data": {
      "text/html": [
       "<style type=\"text/css\">\n",
       "#T_c4e40_row0_col0, #T_c4e40_row0_col1, #T_c4e40_row1_col0, #T_c4e40_row1_col1, #T_c4e40_row2_col0, #T_c4e40_row2_col1, #T_c4e40_row3_col0, #T_c4e40_row3_col1, #T_c4e40_row4_col0, #T_c4e40_row4_col1, #T_c4e40_row5_col0, #T_c4e40_row5_col1, #T_c4e40_row6_col0, #T_c4e40_row6_col1, #T_c4e40_row7_col0, #T_c4e40_row7_col1, #T_c4e40_row8_col0, #T_c4e40_row8_col1 {\n",
       "  text-align: left;\n",
       "}\n",
       "</style>\n",
       "<table id=\"T_c4e40\">\n",
       "  <thead>\n",
       "    <tr>\n",
       "      <th class=\"blank level0\" >&nbsp;</th>\n",
       "      <th id=\"T_c4e40_level0_col0\" class=\"col_heading level0 col0\" >Abbreviated Label</th>\n",
       "      <th id=\"T_c4e40_level0_col1\" class=\"col_heading level0 col1\" >Original Label</th>\n",
       "    </tr>\n",
       "  </thead>\n",
       "  <tbody>\n",
       "    <tr>\n",
       "      <th id=\"T_c4e40_level0_row0\" class=\"row_heading level0 row0\" >0</th>\n",
       "      <td id=\"T_c4e40_row0_col0\" class=\"data row0 col0\" >TechAffinity_01</td>\n",
       "      <td id=\"T_c4e40_row0_col1\" class=\"data row0 col1\" >Ich beschäftige mich gern genauer mit technischen Systemen.</td>\n",
       "    </tr>\n",
       "    <tr>\n",
       "      <th id=\"T_c4e40_level0_row1\" class=\"row_heading level0 row1\" >1</th>\n",
       "      <td id=\"T_c4e40_row1_col0\" class=\"data row1 col0\" >TechAffinity_02</td>\n",
       "      <td id=\"T_c4e40_row1_col1\" class=\"data row1 col1\" >Ich probiere gern die Funktionen neuer technischer Systeme aus.</td>\n",
       "    </tr>\n",
       "    <tr>\n",
       "      <th id=\"T_c4e40_level0_row2\" class=\"row_heading level0 row2\" >2</th>\n",
       "      <td id=\"T_c4e40_row2_col0\" class=\"data row2 col0\" >TechAffinity_03</td>\n",
       "      <td id=\"T_c4e40_row2_col1\" class=\"data row2 col1\" >In erster Linie beschäftige ich mich mit technischen Systemen, weil ich muss.</td>\n",
       "    </tr>\n",
       "    <tr>\n",
       "      <th id=\"T_c4e40_level0_row3\" class=\"row_heading level0 row3\" >3</th>\n",
       "      <td id=\"T_c4e40_row3_col0\" class=\"data row3 col0\" >TechAffinity_04</td>\n",
       "      <td id=\"T_c4e40_row3_col1\" class=\"data row3 col1\" >Wenn ich ein neues technisches System vor mir habe, probiere ich es intensiv aus.</td>\n",
       "    </tr>\n",
       "    <tr>\n",
       "      <th id=\"T_c4e40_level0_row4\" class=\"row_heading level0 row4\" >4</th>\n",
       "      <td id=\"T_c4e40_row4_col0\" class=\"data row4 col0\" >TechAffinity_05</td>\n",
       "      <td id=\"T_c4e40_row4_col1\" class=\"data row4 col1\" >Ich verbringe sehr gern Zeit mit dem Kennenlernen eines neuen technischen Systems.</td>\n",
       "    </tr>\n",
       "    <tr>\n",
       "      <th id=\"T_c4e40_level0_row5\" class=\"row_heading level0 row5\" >5</th>\n",
       "      <td id=\"T_c4e40_row5_col0\" class=\"data row5 col0\" >TechAffinity_06</td>\n",
       "      <td id=\"T_c4e40_row5_col1\" class=\"data row5 col1\" >Es genügt mir, dass ein technisches System funktioniert, mir ist es egal, wie oder warum.</td>\n",
       "    </tr>\n",
       "    <tr>\n",
       "      <th id=\"T_c4e40_level0_row6\" class=\"row_heading level0 row6\" >6</th>\n",
       "      <td id=\"T_c4e40_row6_col0\" class=\"data row6 col0\" >TechAffinity_07</td>\n",
       "      <td id=\"T_c4e40_row6_col1\" class=\"data row6 col1\" >Ich versuche zu verstehen, wie ein technisches System genau funktioniert.</td>\n",
       "    </tr>\n",
       "    <tr>\n",
       "      <th id=\"T_c4e40_level0_row7\" class=\"row_heading level0 row7\" >7</th>\n",
       "      <td id=\"T_c4e40_row7_col0\" class=\"data row7 col0\" >TechAffinity_08</td>\n",
       "      <td id=\"T_c4e40_row7_col1\" class=\"data row7 col1\" >Es genügt mir, die Grundfunktionen eines technischen Systems zu kennen.</td>\n",
       "    </tr>\n",
       "    <tr>\n",
       "      <th id=\"T_c4e40_level0_row8\" class=\"row_heading level0 row8\" >8</th>\n",
       "      <td id=\"T_c4e40_row8_col0\" class=\"data row8 col0\" >TechAffinity_09</td>\n",
       "      <td id=\"T_c4e40_row8_col1\" class=\"data row8 col1\" >Ich versuche, die Möglichkeiten eines technischen Systems vollständig auszunutzen.</td>\n",
       "    </tr>\n",
       "  </tbody>\n",
       "</table>\n"
      ],
      "text/plain": [
       "<pandas.io.formats.style.Styler at 0x72d5707fd390>"
      ]
     },
     "metadata": {},
     "output_type": "display_data"
    }
   ],
   "source": [
    "ati_columns = list(filter(lambda x: x.startswith(\"TechAffinity_\"), column_labels))\n",
    "\n",
    "ati_original_labels = map(lambda x: get_original_label(x, subquestion_only=True), ati_columns)\n",
    "\n",
    "# Create a mapping DataFrame\n",
    "ati_mapping_df = pd.DataFrame({\n",
    "    \"Abbreviated Label\": ati_columns,              \n",
    "    \"Original Label\": ati_original_labels\n",
    "}).sort_values(by=\"Abbreviated Label\")\n",
    "\n",
    "# Display the mapping of abbreviation -> original label \n",
    "# This allows users to verifiy question mapping for ATI\n",
    "display(ati_mapping_df.style.set_properties(**{'text-align': 'left'}))"
   ]
  },
  {
   "cell_type": "code",
   "execution_count": 10,
   "id": "9c5f3cbf-3a23-4b26-a680-0f892fe889fc",
   "metadata": {},
   "outputs": [
    {
     "data": {
      "text/markdown": [
       "### Overall Mean  & SD of ATI Scale"
      ],
      "text/plain": [
       "<IPython.core.display.Markdown object>"
      ]
     },
     "metadata": {},
     "output_type": "display_data"
    },
    {
     "data": {
      "text/markdown": [
       "**Mean:** 4.41"
      ],
      "text/plain": [
       "<IPython.core.display.Markdown object>"
      ]
     },
     "metadata": {},
     "output_type": "display_data"
    },
    {
     "data": {
      "text/markdown": [
       "**Standard Deviation (SD):** 0.96"
      ],
      "text/plain": [
       "<IPython.core.display.Markdown object>"
      ]
     },
     "metadata": {},
     "output_type": "display_data"
    },
    {
     "data": {
      "text/markdown": [
       "**Cronbach's Alpha:** 0.89"
      ],
      "text/plain": [
       "<IPython.core.display.Markdown object>"
      ]
     },
     "metadata": {},
     "output_type": "display_data"
    },
    {
     "data": {
      "text/markdown": [
       "### Mean & SD for ATI Scale by Group"
      ],
      "text/plain": [
       "<IPython.core.display.Markdown object>"
      ]
     },
     "metadata": {},
     "output_type": "display_data"
    },
    {
     "data": {
      "text/html": [
       "<div>\n",
       "<style scoped>\n",
       "    .dataframe tbody tr th:only-of-type {\n",
       "        vertical-align: middle;\n",
       "    }\n",
       "\n",
       "    .dataframe tbody tr th {\n",
       "        vertical-align: top;\n",
       "    }\n",
       "\n",
       "    .dataframe thead th {\n",
       "        text-align: right;\n",
       "    }\n",
       "</style>\n",
       "<table border=\"1\" class=\"dataframe\">\n",
       "  <thead>\n",
       "    <tr style=\"text-align: right;\">\n",
       "      <th></th>\n",
       "      <th>Group</th>\n",
       "      <th>Mean ATI Scale</th>\n",
       "      <th>SD ATI Scale</th>\n",
       "    </tr>\n",
       "  </thead>\n",
       "  <tbody>\n",
       "    <tr>\n",
       "      <th>0</th>\n",
       "      <td>Mitarbeiter</td>\n",
       "      <td>4.444444</td>\n",
       "      <td>0.806353</td>\n",
       "    </tr>\n",
       "    <tr>\n",
       "      <th>1</th>\n",
       "      <td>Studierende</td>\n",
       "      <td>4.393939</td>\n",
       "      <td>1.040375</td>\n",
       "    </tr>\n",
       "  </tbody>\n",
       "</table>\n",
       "</div>"
      ],
      "text/plain": [
       "         Group  Mean ATI Scale  SD ATI Scale\n",
       "0  Mitarbeiter        4.444444      0.806353\n",
       "1  Studierende        4.393939      1.040375"
      ]
     },
     "metadata": {},
     "output_type": "display_data"
    },
    {
     "data": {
      "text/markdown": [
       "### Distribution of ATI Scale Scores"
      ],
      "text/plain": [
       "<IPython.core.display.Markdown object>"
      ]
     },
     "metadata": {},
     "output_type": "display_data"
    },
    {
     "data": {
      "text/plain": [
       "Text(0, 0.5, 'ATI Scale')"
      ]
     },
     "execution_count": 10,
     "metadata": {},
     "output_type": "execute_result"
    },
    {
     "data": {
      "image/png": "[encoded data removed]",
      "text/plain": [
       "<Figure size 640x480 with 1 Axes>"
      ]
     },
     "metadata": {},
     "output_type": "display_data"
    }
   ],
   "source": [
    "# Mapping for positively scored items\n",
    "# These items are scored such that higher agreement (e.g., \"Stimmt völlig\") corresponds to higher values.\n",
    "ati_response_map_positive = {\n",
    "    \"Stimmt gar nicht\": 1,\n",
    "    \"Stimmt weitgehend nicht\": 2,\n",
    "    \"Stimmt eher nicht\": 3,\n",
    "    \"Stimmt eher\": 4,\n",
    "    \"Stimmt weitgehend\": 5,\n",
    "    \"Stimmt völlig\": 6\n",
    "}\n",
    "\n",
    "ati_columns_positive = [\n",
    "    \"TechAffinity_01\", \"TechAffinity_02\",\n",
    "    \"TechAffinity_04\", \"TechAffinity_05\",\n",
    "    \"TechAffinity_07\", \"TechAffinity_09\"\n",
    "]\n",
    "\n",
    "\n",
    "# Mapping for negatively scored items\n",
    "# These items are reverse-coded because higher agreement reflects a lower affinity for technology.\n",
    "ati_response_map_negative = {\n",
    "    \"Stimmt gar nicht\": 6,\n",
    "    \"Stimmt weitgehend nicht\": 5,\n",
    "    \"Stimmt eher nicht\": 4,\n",
    "    \"Stimmt eher\": 3,\n",
    "    \"Stimmt weitgehend\": 2,\n",
    "    \"Stimmt völlig\": 1\n",
    "}\n",
    "\n",
    "ati_columns_negative = [\n",
    "    \"TechAffinity_03\", \"TechAffinity_06\", \"TechAffinity_08\"\n",
    "]\n",
    "\n",
    "\n",
    "# Copy DataFrame for ATI transformations\n",
    "ati_df = df.copy()\n",
    "\n",
    "# Recode positive ATI items\n",
    "# Using the positive mapping for columns where higher agreement corresponds to higher scores\n",
    "for col in ati_columns_positive:\n",
    "    ati_df[col] = ati_df[col].map(ati_response_map_positive)\n",
    "\n",
    "# Recode negative ATI items\n",
    "# Using the negative mapping for reverse-coded columns\n",
    "for col in ati_columns_negative:\n",
    "    ati_df[col] = ati_df[col].map(ati_response_map_negative)\n",
    "\n",
    "# Calculate ATI scale as the mean of all ATI columns in the new table, excluding missing values\n",
    "ati_columns = ati_columns_positive + ati_columns_negative\n",
    "ati_df['ATI_Scale'] = ati_df[ati_columns].mean(axis=1)\n",
    "\n",
    "# Calculate overall mean, sd of ATI_Scale\n",
    "overall_mean = ati_df['ATI_Scale'].mean()\n",
    "overall_sd = ati_df['ATI_Scale'].std()\n",
    "\n",
    "# Calculate Cronbach's alpha for the ATI items using Pingouin\n",
    "ati_items = ati_df[ati_columns]  # Only the columns used for the ATI scale\n",
    "alpha = pg.cronbach_alpha(data=ati_items)\n",
    "\n",
    "# Display overall ATI_Scale mean, standard deviation and Cronbach's alpha\n",
    "display(Markdown(\"### Overall Mean  & SD of ATI Scale\"))\n",
    "display(Markdown(f\"**Mean:** {round(overall_mean, 2)}\"))\n",
    "display(Markdown(f\"**Standard Deviation (SD):** {round(overall_sd, 2)}\"))\n",
    "display(Markdown(f\"**Cronbach's Alpha:** {round(alpha[0], 2)}\"))\n",
    "\n",
    "# Calculate mean and SD of ATI_Scale grouped by 'Group'\n",
    "ati_group_stats = ati_df.groupby('Group')['ATI_Scale'].agg(['mean', 'std']).reset_index()\n",
    "ati_group_stats.columns = ['Group', 'Mean ATI Scale', 'SD ATI Scale']\n",
    "\n",
    "# Display ATI_Scale group means in a table\n",
    "display(Markdown(\"### Mean & SD for ATI Scale by Group\"))\n",
    "display(ati_group_stats)\n",
    "\n",
    "# Plot data\n",
    "display(Markdown(\"### Distribution of ATI Scale Scores\"))\n",
    "ax = sns.boxplot(\n",
    "    y=ati_df['ATI_Scale'],\n",
    "    color='seagreen'\n",
    ")\n",
    "\n",
    "ax.set_ylabel(\"ATI Scale\")"
   ]
  },
  {
   "cell_type": "markdown",
   "id": "53eba0fd-c675-4ca4-9a76-ca87e5dc4ecc",
   "metadata": {},
   "source": [
    "## Data Protection  \n",
    "\n",
    "This section evaluates the importance participants place on the protection of personal data in the digital realm, based on their response to a single question. The results offer a straightforward insight into how participants prioritize data privacy in their interactions with digital systems.  \n",
    "\n",
    "Participants rated their agreement on a scale ranging from *\"Disagree\"* to *\"Fully Agree\"*.  "
   ]
  },
  {
   "cell_type": "code",
   "execution_count": 11,
   "id": "abc16e40-a084-4336-ab76-fb85fbcfd885",
   "metadata": {},
   "outputs": [
    {
     "data": {
      "text/markdown": [
       "### Sense of Privacy \n",
       " **Original Question**: Mir ist der Schutz meiner persönlichen Daten im digitalen Raum ein wichtiges Anliegen. "
      ],
      "text/plain": [
       "<IPython.core.display.Markdown object>"
      ]
     },
     "metadata": {},
     "output_type": "display_data"
    },
    {
     "data": {
      "text/html": [
       "<div>\n",
       "<style scoped>\n",
       "    .dataframe tbody tr th:only-of-type {\n",
       "        vertical-align: middle;\n",
       "    }\n",
       "\n",
       "    .dataframe tbody tr th {\n",
       "        vertical-align: top;\n",
       "    }\n",
       "\n",
       "    .dataframe thead th {\n",
       "        text-align: right;\n",
       "    }\n",
       "</style>\n",
       "<table border=\"1\" class=\"dataframe\">\n",
       "  <thead>\n",
       "    <tr style=\"text-align: right;\">\n",
       "      <th></th>\n",
       "      <th>Total</th>\n",
       "      <th>Percentage (%)</th>\n",
       "    </tr>\n",
       "    <tr>\n",
       "      <th>Data_Protection</th>\n",
       "      <th></th>\n",
       "      <th></th>\n",
       "    </tr>\n",
       "  </thead>\n",
       "  <tbody>\n",
       "    <tr>\n",
       "      <th>Stimme voll zu</th>\n",
       "      <td>6</td>\n",
       "      <td>40.00</td>\n",
       "    </tr>\n",
       "    <tr>\n",
       "      <th>Stimmer eher zu</th>\n",
       "      <td>7</td>\n",
       "      <td>46.67</td>\n",
       "    </tr>\n",
       "    <tr>\n",
       "      <th>Stimmer eher nicht zu</th>\n",
       "      <td>2</td>\n",
       "      <td>13.33</td>\n",
       "    </tr>\n",
       "  </tbody>\n",
       "</table>\n",
       "</div>"
      ],
      "text/plain": [
       "                       Total  Percentage (%)\n",
       "Data_Protection                             \n",
       "Stimme voll zu             6           40.00\n",
       "Stimmer eher zu            7           46.67\n",
       "Stimmer eher nicht zu      2           13.33"
      ]
     },
     "metadata": {},
     "output_type": "display_data"
    }
   ],
   "source": [
    "response_order = {\n",
    "        \"Stimme nicht zu\": 5,\n",
    "        \"Stimmer eher nicht zu\": 4,\n",
    "        \"Stimme teilweise zu\": 3,\n",
    "        \"Stimmer eher zu\": 2,\n",
    "        \"Stimme voll zu\": 1\n",
    "}\n",
    "\n",
    "# Calculate totals and percentages for \"Datenschutz\"\n",
    "data_protection_df = pd.DataFrame({\n",
    "    \"Total\": df['Data_Protection'].value_counts(),\n",
    "    \"Percentage (%)\": df['Data_Protection'].value_counts(normalize=True) * 100\n",
    "}).round(2)\n",
    "\n",
    "# Sort by response_order\n",
    "data_protection_df2 = data_protection_df.sort_values(\n",
    "    by=\"Data_Protection\",\n",
    "    key=lambda series: series.map(response_order)\n",
    ")\n",
    "\n",
    "# Display the table\n",
    "display(Markdown(f\"### Sense of Privacy \\n **Original Question**: {get_original_label('Data_Protection')}\"))\n",
    "display(data_protection_df2)"
   ]
  },
  {
   "cell_type": "markdown",
   "id": "a5cf0cb1-d1e0-414f-9915-05058a81742b",
   "metadata": {},
   "source": [
    "## Ad hoc Questions\n",
    "\n",
    "This section focuses on five targeted questions designed to assess specific aspects of user experience for both system variants: with and without pre-consent. These questions aim to evaluate:\n",
    "\n",
    "- user perceptions of the information presented,\n",
    "- the cognitive load required to complete tasks,\n",
    "- the clarity of the information,\n",
    "- whether the repetition of informed consent was perceived as disruptive, and\n",
    "- whether the process of informed consent was considered too lengthy overall.\n",
    "\n",
    "However, question 4 was incorrectly phrased in the questionnaire. The original phrasing was: _\"I found the repetition of informed consent too long.\"._ Participants were informed of this error and were read the correct question: _\"I found the consent process per transaction too long.\"_\n",
    "\n",
    "By asking these questions for both variants, a direct comparison of user experiences is facilitated. The results are displayed in a table format for clarity.\n"
   ]
  },
  {
   "cell_type": "code",
   "execution_count": 12,
   "id": "c03bc846-78ec-4b4d-9a1b-4f192c6f5bbf",
   "metadata": {
    "scrolled": true
   },
   "outputs": [
    {
     "data": {
      "text/markdown": [
       "### Question 1: Ich fand die Menge an Informationen überfordernd."
      ],
      "text/plain": [
       "<IPython.core.display.Markdown object>"
      ]
     },
     "metadata": {},
     "output_type": "display_data"
    },
    {
     "data": {
      "text/html": [
       "<div>\n",
       "<style scoped>\n",
       "    .dataframe tbody tr th:only-of-type {\n",
       "        vertical-align: middle;\n",
       "    }\n",
       "\n",
       "    .dataframe tbody tr th {\n",
       "        vertical-align: top;\n",
       "    }\n",
       "\n",
       "    .dataframe thead th {\n",
       "        text-align: right;\n",
       "    }\n",
       "</style>\n",
       "<table border=\"1\" class=\"dataframe\">\n",
       "  <thead>\n",
       "    <tr style=\"text-align: right;\">\n",
       "      <th></th>\n",
       "      <th>Without Pre-Consent</th>\n",
       "      <th>Without Pre-Consent (%)</th>\n",
       "      <th>With Pre-Consent</th>\n",
       "      <th>With Pre-Consent (%)</th>\n",
       "    </tr>\n",
       "  </thead>\n",
       "  <tbody>\n",
       "    <tr>\n",
       "      <th>Stimmt völlig</th>\n",
       "      <td>0</td>\n",
       "      <td>0.00</td>\n",
       "      <td>0</td>\n",
       "      <td>0.00</td>\n",
       "    </tr>\n",
       "    <tr>\n",
       "      <th>Stimmt weitgehend</th>\n",
       "      <td>0</td>\n",
       "      <td>0.00</td>\n",
       "      <td>0</td>\n",
       "      <td>0.00</td>\n",
       "    </tr>\n",
       "    <tr>\n",
       "      <th>Stimmt eher</th>\n",
       "      <td>1</td>\n",
       "      <td>6.67</td>\n",
       "      <td>1</td>\n",
       "      <td>6.67</td>\n",
       "    </tr>\n",
       "    <tr>\n",
       "      <th>Stimmt eher nicht</th>\n",
       "      <td>4</td>\n",
       "      <td>26.67</td>\n",
       "      <td>3</td>\n",
       "      <td>20.00</td>\n",
       "    </tr>\n",
       "    <tr>\n",
       "      <th>Stimmt weitgehend nicht</th>\n",
       "      <td>3</td>\n",
       "      <td>20.00</td>\n",
       "      <td>4</td>\n",
       "      <td>26.67</td>\n",
       "    </tr>\n",
       "    <tr>\n",
       "      <th>Stimmt gar nicht</th>\n",
       "      <td>7</td>\n",
       "      <td>46.67</td>\n",
       "      <td>7</td>\n",
       "      <td>46.67</td>\n",
       "    </tr>\n",
       "  </tbody>\n",
       "</table>\n",
       "</div>"
      ],
      "text/plain": [
       "                         Without Pre-Consent  Without Pre-Consent (%)  With Pre-Consent  With Pre-Consent (%)\n",
       "Stimmt völlig                              0                     0.00                 0                  0.00\n",
       "Stimmt weitgehend                          0                     0.00                 0                  0.00\n",
       "Stimmt eher                                1                     6.67                 1                  6.67\n",
       "Stimmt eher nicht                          4                    26.67                 3                 20.00\n",
       "Stimmt weitgehend nicht                    3                    20.00                 4                 26.67\n",
       "Stimmt gar nicht                           7                    46.67                 7                 46.67"
      ]
     },
     "metadata": {},
     "output_type": "display_data"
    },
    {
     "data": {
      "text/markdown": [
       "### Question 2: Ich fand die angezeigten Informationen verständlich."
      ],
      "text/plain": [
       "<IPython.core.display.Markdown object>"
      ]
     },
     "metadata": {},
     "output_type": "display_data"
    },
    {
     "data": {
      "text/html": [
       "<div>\n",
       "<style scoped>\n",
       "    .dataframe tbody tr th:only-of-type {\n",
       "        vertical-align: middle;\n",
       "    }\n",
       "\n",
       "    .dataframe tbody tr th {\n",
       "        vertical-align: top;\n",
       "    }\n",
       "\n",
       "    .dataframe thead th {\n",
       "        text-align: right;\n",
       "    }\n",
       "</style>\n",
       "<table border=\"1\" class=\"dataframe\">\n",
       "  <thead>\n",
       "    <tr style=\"text-align: right;\">\n",
       "      <th></th>\n",
       "      <th>Without Pre-Consent</th>\n",
       "      <th>Without Pre-Consent (%)</th>\n",
       "      <th>With Pre-Consent</th>\n",
       "      <th>With Pre-Consent (%)</th>\n",
       "    </tr>\n",
       "  </thead>\n",
       "  <tbody>\n",
       "    <tr>\n",
       "      <th>Stimmt völlig</th>\n",
       "      <td>8</td>\n",
       "      <td>53.33</td>\n",
       "      <td>5</td>\n",
       "      <td>33.33</td>\n",
       "    </tr>\n",
       "    <tr>\n",
       "      <th>Stimmt weitgehend</th>\n",
       "      <td>6</td>\n",
       "      <td>40.00</td>\n",
       "      <td>10</td>\n",
       "      <td>66.67</td>\n",
       "    </tr>\n",
       "    <tr>\n",
       "      <th>Stimmt eher</th>\n",
       "      <td>1</td>\n",
       "      <td>6.67</td>\n",
       "      <td>0</td>\n",
       "      <td>0.00</td>\n",
       "    </tr>\n",
       "    <tr>\n",
       "      <th>Stimmt eher nicht</th>\n",
       "      <td>0</td>\n",
       "      <td>0.00</td>\n",
       "      <td>0</td>\n",
       "      <td>0.00</td>\n",
       "    </tr>\n",
       "    <tr>\n",
       "      <th>Stimmt weitgehend nicht</th>\n",
       "      <td>0</td>\n",
       "      <td>0.00</td>\n",
       "      <td>0</td>\n",
       "      <td>0.00</td>\n",
       "    </tr>\n",
       "    <tr>\n",
       "      <th>Stimmt gar nicht</th>\n",
       "      <td>0</td>\n",
       "      <td>0.00</td>\n",
       "      <td>0</td>\n",
       "      <td>0.00</td>\n",
       "    </tr>\n",
       "  </tbody>\n",
       "</table>\n",
       "</div>"
      ],
      "text/plain": [
       "                         Without Pre-Consent  Without Pre-Consent (%)  With Pre-Consent  With Pre-Consent (%)\n",
       "Stimmt völlig                              8                    53.33                 5                 33.33\n",
       "Stimmt weitgehend                          6                    40.00                10                 66.67\n",
       "Stimmt eher                                1                     6.67                 0                  0.00\n",
       "Stimmt eher nicht                          0                     0.00                 0                  0.00\n",
       "Stimmt weitgehend nicht                    0                     0.00                 0                  0.00\n",
       "Stimmt gar nicht                           0                     0.00                 0                  0.00"
      ]
     },
     "metadata": {},
     "output_type": "display_data"
    },
    {
     "data": {
      "text/markdown": [
       "### Question 3: Die Wiederholung der informierten Zustimmung hat mich gestört."
      ],
      "text/plain": [
       "<IPython.core.display.Markdown object>"
      ]
     },
     "metadata": {},
     "output_type": "display_data"
    },
    {
     "data": {
      "text/html": [
       "<div>\n",
       "<style scoped>\n",
       "    .dataframe tbody tr th:only-of-type {\n",
       "        vertical-align: middle;\n",
       "    }\n",
       "\n",
       "    .dataframe tbody tr th {\n",
       "        vertical-align: top;\n",
       "    }\n",
       "\n",
       "    .dataframe thead th {\n",
       "        text-align: right;\n",
       "    }\n",
       "</style>\n",
       "<table border=\"1\" class=\"dataframe\">\n",
       "  <thead>\n",
       "    <tr style=\"text-align: right;\">\n",
       "      <th></th>\n",
       "      <th>Without Pre-Consent</th>\n",
       "      <th>Without Pre-Consent (%)</th>\n",
       "      <th>With Pre-Consent</th>\n",
       "      <th>With Pre-Consent (%)</th>\n",
       "    </tr>\n",
       "  </thead>\n",
       "  <tbody>\n",
       "    <tr>\n",
       "      <th>Stimmt völlig</th>\n",
       "      <td>3</td>\n",
       "      <td>20.00</td>\n",
       "      <td>1</td>\n",
       "      <td>6.67</td>\n",
       "    </tr>\n",
       "    <tr>\n",
       "      <th>Stimmt weitgehend</th>\n",
       "      <td>4</td>\n",
       "      <td>26.67</td>\n",
       "      <td>0</td>\n",
       "      <td>0.00</td>\n",
       "    </tr>\n",
       "    <tr>\n",
       "      <th>Stimmt eher</th>\n",
       "      <td>1</td>\n",
       "      <td>6.67</td>\n",
       "      <td>1</td>\n",
       "      <td>6.67</td>\n",
       "    </tr>\n",
       "    <tr>\n",
       "      <th>Stimmt eher nicht</th>\n",
       "      <td>2</td>\n",
       "      <td>13.33</td>\n",
       "      <td>2</td>\n",
       "      <td>13.33</td>\n",
       "    </tr>\n",
       "    <tr>\n",
       "      <th>Stimmt weitgehend nicht</th>\n",
       "      <td>4</td>\n",
       "      <td>26.67</td>\n",
       "      <td>6</td>\n",
       "      <td>40.00</td>\n",
       "    </tr>\n",
       "    <tr>\n",
       "      <th>Stimmt gar nicht</th>\n",
       "      <td>1</td>\n",
       "      <td>6.67</td>\n",
       "      <td>5</td>\n",
       "      <td>33.33</td>\n",
       "    </tr>\n",
       "  </tbody>\n",
       "</table>\n",
       "</div>"
      ],
      "text/plain": [
       "                         Without Pre-Consent  Without Pre-Consent (%)  With Pre-Consent  With Pre-Consent (%)\n",
       "Stimmt völlig                              3                    20.00                 1                  6.67\n",
       "Stimmt weitgehend                          4                    26.67                 0                  0.00\n",
       "Stimmt eher                                1                     6.67                 1                  6.67\n",
       "Stimmt eher nicht                          2                    13.33                 2                 13.33\n",
       "Stimmt weitgehend nicht                    4                    26.67                 6                 40.00\n",
       "Stimmt gar nicht                           1                     6.67                 5                 33.33"
      ]
     },
     "metadata": {},
     "output_type": "display_data"
    },
    {
     "data": {
      "text/markdown": [
       "### Question 4: Die Wiederholung der informierten Zustimmung empfand ich als zu lang."
      ],
      "text/plain": [
       "<IPython.core.display.Markdown object>"
      ]
     },
     "metadata": {},
     "output_type": "display_data"
    },
    {
     "data": {
      "text/html": [
       "<div>\n",
       "<style scoped>\n",
       "    .dataframe tbody tr th:only-of-type {\n",
       "        vertical-align: middle;\n",
       "    }\n",
       "\n",
       "    .dataframe tbody tr th {\n",
       "        vertical-align: top;\n",
       "    }\n",
       "\n",
       "    .dataframe thead th {\n",
       "        text-align: right;\n",
       "    }\n",
       "</style>\n",
       "<table border=\"1\" class=\"dataframe\">\n",
       "  <thead>\n",
       "    <tr style=\"text-align: right;\">\n",
       "      <th></th>\n",
       "      <th>Without Pre-Consent</th>\n",
       "      <th>Without Pre-Consent (%)</th>\n",
       "      <th>With Pre-Consent</th>\n",
       "      <th>With Pre-Consent (%)</th>\n",
       "    </tr>\n",
       "  </thead>\n",
       "  <tbody>\n",
       "    <tr>\n",
       "      <th>Stimmt völlig</th>\n",
       "      <td>3</td>\n",
       "      <td>20.00</td>\n",
       "      <td>0</td>\n",
       "      <td>0.00</td>\n",
       "    </tr>\n",
       "    <tr>\n",
       "      <th>Stimmt weitgehend</th>\n",
       "      <td>2</td>\n",
       "      <td>13.33</td>\n",
       "      <td>1</td>\n",
       "      <td>6.67</td>\n",
       "    </tr>\n",
       "    <tr>\n",
       "      <th>Stimmt eher</th>\n",
       "      <td>2</td>\n",
       "      <td>13.33</td>\n",
       "      <td>1</td>\n",
       "      <td>6.67</td>\n",
       "    </tr>\n",
       "    <tr>\n",
       "      <th>Stimmt eher nicht</th>\n",
       "      <td>2</td>\n",
       "      <td>13.33</td>\n",
       "      <td>5</td>\n",
       "      <td>33.33</td>\n",
       "    </tr>\n",
       "    <tr>\n",
       "      <th>Stimmt weitgehend nicht</th>\n",
       "      <td>3</td>\n",
       "      <td>20.00</td>\n",
       "      <td>5</td>\n",
       "      <td>33.33</td>\n",
       "    </tr>\n",
       "    <tr>\n",
       "      <th>Stimmt gar nicht</th>\n",
       "      <td>3</td>\n",
       "      <td>20.00</td>\n",
       "      <td>3</td>\n",
       "      <td>20.00</td>\n",
       "    </tr>\n",
       "  </tbody>\n",
       "</table>\n",
       "</div>"
      ],
      "text/plain": [
       "                         Without Pre-Consent  Without Pre-Consent (%)  With Pre-Consent  With Pre-Consent (%)\n",
       "Stimmt völlig                              3                    20.00                 0                  0.00\n",
       "Stimmt weitgehend                          2                    13.33                 1                  6.67\n",
       "Stimmt eher                                2                    13.33                 1                  6.67\n",
       "Stimmt eher nicht                          2                    13.33                 5                 33.33\n",
       "Stimmt weitgehend nicht                    3                    20.00                 5                 33.33\n",
       "Stimmt gar nicht                           3                    20.00                 3                 20.00"
      ]
     },
     "metadata": {},
     "output_type": "display_data"
    },
    {
     "data": {
      "text/markdown": [
       "### Question 5: Das Erledigen der Aufgabe hat meine Konzentration beansprucht."
      ],
      "text/plain": [
       "<IPython.core.display.Markdown object>"
      ]
     },
     "metadata": {},
     "output_type": "display_data"
    },
    {
     "data": {
      "text/html": [
       "<div>\n",
       "<style scoped>\n",
       "    .dataframe tbody tr th:only-of-type {\n",
       "        vertical-align: middle;\n",
       "    }\n",
       "\n",
       "    .dataframe tbody tr th {\n",
       "        vertical-align: top;\n",
       "    }\n",
       "\n",
       "    .dataframe thead th {\n",
       "        text-align: right;\n",
       "    }\n",
       "</style>\n",
       "<table border=\"1\" class=\"dataframe\">\n",
       "  <thead>\n",
       "    <tr style=\"text-align: right;\">\n",
       "      <th></th>\n",
       "      <th>Without Pre-Consent</th>\n",
       "      <th>Without Pre-Consent (%)</th>\n",
       "      <th>With Pre-Consent</th>\n",
       "      <th>With Pre-Consent (%)</th>\n",
       "    </tr>\n",
       "  </thead>\n",
       "  <tbody>\n",
       "    <tr>\n",
       "      <th>Stimmt völlig</th>\n",
       "      <td>0</td>\n",
       "      <td>0.00</td>\n",
       "      <td>0</td>\n",
       "      <td>0.00</td>\n",
       "    </tr>\n",
       "    <tr>\n",
       "      <th>Stimmt weitgehend</th>\n",
       "      <td>2</td>\n",
       "      <td>13.33</td>\n",
       "      <td>2</td>\n",
       "      <td>13.33</td>\n",
       "    </tr>\n",
       "    <tr>\n",
       "      <th>Stimmt eher</th>\n",
       "      <td>4</td>\n",
       "      <td>26.67</td>\n",
       "      <td>1</td>\n",
       "      <td>6.67</td>\n",
       "    </tr>\n",
       "    <tr>\n",
       "      <th>Stimmt eher nicht</th>\n",
       "      <td>1</td>\n",
       "      <td>6.67</td>\n",
       "      <td>4</td>\n",
       "      <td>26.67</td>\n",
       "    </tr>\n",
       "    <tr>\n",
       "      <th>Stimmt weitgehend nicht</th>\n",
       "      <td>4</td>\n",
       "      <td>26.67</td>\n",
       "      <td>3</td>\n",
       "      <td>20.00</td>\n",
       "    </tr>\n",
       "    <tr>\n",
       "      <th>Stimmt gar nicht</th>\n",
       "      <td>4</td>\n",
       "      <td>26.67</td>\n",
       "      <td>5</td>\n",
       "      <td>33.33</td>\n",
       "    </tr>\n",
       "  </tbody>\n",
       "</table>\n",
       "</div>"
      ],
      "text/plain": [
       "                         Without Pre-Consent  Without Pre-Consent (%)  With Pre-Consent  With Pre-Consent (%)\n",
       "Stimmt völlig                              0                     0.00                 0                  0.00\n",
       "Stimmt weitgehend                          2                    13.33                 2                 13.33\n",
       "Stimmt eher                                4                    26.67                 1                  6.67\n",
       "Stimmt eher nicht                          1                     6.67                 4                 26.67\n",
       "Stimmt weitgehend nicht                    4                    26.67                 3                 20.00\n",
       "Stimmt gar nicht                           4                    26.67                 5                 33.33"
      ]
     },
     "metadata": {},
     "output_type": "display_data"
    }
   ],
   "source": [
    "# Order for the response labels\n",
    "response_order = [\n",
    "    \"Stimmt völlig\",\n",
    "    \"Stimmt weitgehend\",\n",
    "    \"Stimmt eher\",\n",
    "    \"Stimmt eher nicht\",\n",
    "    \"Stimmt weitgehend nicht\",    \n",
    "    \"Stimmt gar nicht\",\n",
    "]\n",
    "\n",
    "for i in range(1,6):\n",
    "    qid = str(i).zfill(2)\n",
    "    nopc_id = f\"NoPC_{qid}\"\n",
    "    pc_id = f\"PC_{qid}\"\n",
    "\n",
    "    # Calculate totals and percentages for questions\n",
    "    adhoc_df = pd.DataFrame({\n",
    "        \"Without Pre-Consent\": df[nopc_id].value_counts().astype('Int64'),\n",
    "        \"Without Pre-Consent (%)\": df[nopc_id].value_counts(normalize=True) * 100,\n",
    "        \"With Pre-Consent\": df[pc_id].value_counts().astype('Int64'),\n",
    "        \"With Pre-Consent (%)\": df[pc_id].value_counts(normalize=True) * 100,\n",
    "    }).round(2).reindex(response_order).fillna(0)\n",
    "\n",
    "    original_question = get_original_label(nopc_id, subquestion_only=True)\n",
    "\n",
    "    display(Markdown(f\"### Question {i}: {original_question}\"))\n",
    "    display(adhoc_df)"
   ]
  },
  {
   "cell_type": "markdown",
   "id": "5c7ec27f-a8ee-4fa7-b0a1-0cb1ecc0d8fa",
   "metadata": {},
   "source": [
    "## Verifier and Transactions\n",
    "\n",
    "In the questionnaire, participants were asked two Yes/No/Don’t Know questions related to verifiers and transactions. Specifically, they were asked whether they noticed different verifiers and whether they were surprised by the request for certain data fields during transactions.\n",
    "\n",
    "If participants answered Yes to these questions, they were asked to list the verifiers, transactions, and data fields they observed. The analysis focuses on the Yes responses to determine how many participants actively noticed verifiers or unexpected data requests. Additionally, the free-text responses provided by participants are analyzed to gain further insights into their experiences and observations.\n",
    "\n",
    "This approach combines quantitative data with qualitative feedback to provide a more comprehensive understanding of user awareness and interaction with verifiers and transactions in the system."
   ]
  },
  {
   "cell_type": "code",
   "execution_count": 13,
   "id": "364b200b-6e67-4c32-a97c-b2d858ba4426",
   "metadata": {},
   "outputs": [
    {
     "data": {
      "text/markdown": [
       "### Responses: Noticed Different Verifiers"
      ],
      "text/plain": [
       "<IPython.core.display.Markdown object>"
      ]
     },
     "metadata": {},
     "output_type": "display_data"
    },
    {
     "data": {
      "text/html": [
       "<div>\n",
       "<style scoped>\n",
       "    .dataframe tbody tr th:only-of-type {\n",
       "        vertical-align: middle;\n",
       "    }\n",
       "\n",
       "    .dataframe tbody tr th {\n",
       "        vertical-align: top;\n",
       "    }\n",
       "\n",
       "    .dataframe thead th {\n",
       "        text-align: right;\n",
       "    }\n",
       "</style>\n",
       "<table border=\"1\" class=\"dataframe\">\n",
       "  <thead>\n",
       "    <tr style=\"text-align: right;\">\n",
       "      <th></th>\n",
       "      <th>Without Pre-Consent</th>\n",
       "      <th>Without Pre-Consent (%)</th>\n",
       "      <th>With Pre-Consent</th>\n",
       "      <th>With Pre-Consent (%)</th>\n",
       "    </tr>\n",
       "  </thead>\n",
       "  <tbody>\n",
       "    <tr>\n",
       "      <th>Ja</th>\n",
       "      <td>15</td>\n",
       "      <td>100.0</td>\n",
       "      <td>15</td>\n",
       "      <td>100.0</td>\n",
       "    </tr>\n",
       "  </tbody>\n",
       "</table>\n",
       "</div>"
      ],
      "text/plain": [
       "    Without Pre-Consent  Without Pre-Consent (%)  With Pre-Consent  With Pre-Consent (%)\n",
       "Ja                   15                    100.0                15                 100.0"
      ]
     },
     "metadata": {},
     "output_type": "display_data"
    },
    {
     "data": {
      "text/markdown": [
       "### Free-Text Responses: Noticed Verifiers (Participants who answered 'Yes')"
      ],
      "text/plain": [
       "<IPython.core.display.Markdown object>"
      ]
     },
     "metadata": {},
     "output_type": "display_data"
    },
    {
     "data": {
      "text/html": [
       "<style type=\"text/css\">\n",
       "#T_95cb7_row0_col0, #T_95cb7_row0_col1, #T_95cb7_row1_col0, #T_95cb7_row1_col1, #T_95cb7_row2_col0, #T_95cb7_row2_col1, #T_95cb7_row3_col0, #T_95cb7_row3_col1, #T_95cb7_row4_col0, #T_95cb7_row4_col1, #T_95cb7_row5_col0, #T_95cb7_row5_col1, #T_95cb7_row6_col0, #T_95cb7_row6_col1, #T_95cb7_row7_col0, #T_95cb7_row7_col1, #T_95cb7_row8_col0, #T_95cb7_row8_col1, #T_95cb7_row9_col0, #T_95cb7_row9_col1, #T_95cb7_row10_col0, #T_95cb7_row10_col1, #T_95cb7_row11_col0, #T_95cb7_row11_col1, #T_95cb7_row12_col0, #T_95cb7_row12_col1, #T_95cb7_row13_col0, #T_95cb7_row13_col1, #T_95cb7_row14_col0, #T_95cb7_row14_col1 {\n",
       "  text-align: left;\n",
       "}\n",
       "</style>\n",
       "<table id=\"T_95cb7\">\n",
       "  <thead>\n",
       "    <tr>\n",
       "      <th class=\"blank level0\" >&nbsp;</th>\n",
       "      <th id=\"T_95cb7_level0_col0\" class=\"col_heading level0 col0\" >Without Pre-Consent</th>\n",
       "      <th id=\"T_95cb7_level0_col1\" class=\"col_heading level0 col1\" >With Pre-Consent</th>\n",
       "    </tr>\n",
       "  </thead>\n",
       "  <tbody>\n",
       "    <tr>\n",
       "      <th id=\"T_95cb7_level0_row0\" class=\"row_heading level0 row0\" >0</th>\n",
       "      <td id=\"T_95cb7_row0_col0\" class=\"data row0 col0\" >LMU, Seat iwas</td>\n",
       "      <td id=\"T_95cb7_row0_col1\" class=\"data row0 col1\" >LMU, Seat...</td>\n",
       "    </tr>\n",
       "    <tr>\n",
       "      <th id=\"T_95cb7_level0_row1\" class=\"row_heading level0 row1\" >1</th>\n",
       "      <td id=\"T_95cb7_row1_col0\" class=\"data row1 col0\" >LMU Seite (Betriebsarzt, IT-Servicedesk, ...)\n",
       "Rabattierung (Studentenwerk, Oper, Messe, ...)\n",
       "ÖPNV (Fahrscheinkontrolle)</td>\n",
       "      <td id=\"T_95cb7_row1_col1\" class=\"data row1 col1\" >LMU Intern (Pforte, ...)\n",
       "Rabattierung (Studierendenwerk, Ausstellung)\n",
       "ÖPNV (Fahrscheinkontrolle)</td>\n",
       "    </tr>\n",
       "    <tr>\n",
       "      <th id=\"T_95cb7_level0_row2\" class=\"row_heading level0 row2\" >2</th>\n",
       "      <td id=\"T_95cb7_row2_col0\" class=\"data row2 col0\" >LMU, Studierendenwerk, MVG, SeatLover GmBH (oder so)</td>\n",
       "      <td id=\"T_95cb7_row2_col1\" class=\"data row2 col1\" >MVG, LMU, SeatLovers (oder so), Studierendenwerk</td>\n",
       "    </tr>\n",
       "    <tr>\n",
       "      <th id=\"T_95cb7_level0_row3\" class=\"row_heading level0 row3\" >3</th>\n",
       "      <td id=\"T_95cb7_row3_col0\" class=\"data row3 col0\" >LMU Reader\n",
       "MVG\n",
       "Save Seat GmbH</td>\n",
       "      <td id=\"T_95cb7_row3_col1\" class=\"data row3 col1\" >LMU Reader\n",
       "MVG\n",
       "Save Seat GmbH</td>\n",
       "    </tr>\n",
       "    <tr>\n",
       "      <th id=\"T_95cb7_level0_row4\" class=\"row_heading level0 row4\" >4</th>\n",
       "      <td id=\"T_95cb7_row4_col0\" class=\"data row4 col0\" >Universtät, Studentenwerk, Konzertbetreiber, Clubbetreiber, Fahrscheinkontrolle</td>\n",
       "      <td id=\"T_95cb7_row4_col1\" class=\"data row4 col1\" >Die gleichen in der anderen App-Variante</td>\n",
       "    </tr>\n",
       "    <tr>\n",
       "      <th id=\"T_95cb7_level0_row5\" class=\"row_heading level0 row5\" >5</th>\n",
       "      <td id=\"T_95cb7_row5_col0\" class=\"data row5 col0\" >Uni, Fahrscheinkontrolle, Museum, Konzert, Messe, Ausstellung</td>\n",
       "      <td id=\"T_95cb7_row5_col1\" class=\"data row5 col1\" >Uni, Fahrscheinkontrolle, Kino, Club, Museum</td>\n",
       "    </tr>\n",
       "    <tr>\n",
       "      <th id=\"T_95cb7_level0_row6\" class=\"row_heading level0 row6\" >6</th>\n",
       "      <td id=\"T_95cb7_row6_col0\" class=\"data row6 col0\" >mvg,lmu,studentenwerk,eventagentur</td>\n",
       "      <td id=\"T_95cb7_row6_col1\" class=\"data row6 col1\" >mvg,studentewek, lmu intern, event-Veranstalter</td>\n",
       "    </tr>\n",
       "    <tr>\n",
       "      <th id=\"T_95cb7_level0_row7\" class=\"row_heading level0 row7\" >7</th>\n",
       "      <td id=\"T_95cb7_row7_col0\" class=\"data row7 col0\" >MVG \n",
       "what ever for mensa\n",
       "one for university</td>\n",
       "      <td id=\"T_95cb7_row7_col1\" class=\"data row7 col1\" >mvg\n",
       "stuwerk (use this for app1 as answer as well)\n",
       "smth for uni</td>\n",
       "    </tr>\n",
       "    <tr>\n",
       "      <th id=\"T_95cb7_level0_row8\" class=\"row_heading level0 row8\" >8</th>\n",
       "      <td id=\"T_95cb7_row8_col0\" class=\"data row8 col0\" >mensa, stubistro, stucafe, lmu-servicedesk, seminar m. anwesenheitspflicht, mvg kontrolle, klausur, club, oper</td>\n",
       "      <td id=\"T_95cb7_row8_col1\" class=\"data row8 col1\" >mensa, stucafe, stubistro, konzert, it servicedesk, praktikum, pforte, klausur, mvg</td>\n",
       "    </tr>\n",
       "    <tr>\n",
       "      <th id=\"T_95cb7_level0_row9\" class=\"row_heading level0 row9\" >9</th>\n",
       "      <td id=\"T_95cb7_row9_col0\" class=\"data row9 col0\" >mvg, safe seat gmbh, stdentenwerk, lmu</td>\n",
       "      <td id=\"T_95cb7_row9_col1\" class=\"data row9 col1\" >mvg, safe seat gmbh, studentenwerk, lmu</td>\n",
       "    </tr>\n",
       "    <tr>\n",
       "      <th id=\"T_95cb7_level0_row10\" class=\"row_heading level0 row10\" >10</th>\n",
       "      <td id=\"T_95cb7_row10_col0\" class=\"data row10 col0\" >MVG, LMU, StuWerk, shared seat gmbh</td>\n",
       "      <td id=\"T_95cb7_row10_col1\" class=\"data row10 col1\" >es waren die gleichen betreiber</td>\n",
       "    </tr>\n",
       "    <tr>\n",
       "      <th id=\"T_95cb7_level0_row11\" class=\"row_heading level0 row11\" >11</th>\n",
       "      <td id=\"T_95cb7_row11_col0\" class=\"data row11 col0\" >keine ahnung</td>\n",
       "      <td id=\"T_95cb7_row11_col1\" class=\"data row11 col1\" >mvg, seat gmbh, lmu... </td>\n",
       "    </tr>\n",
       "    <tr>\n",
       "      <th id=\"T_95cb7_level0_row12\" class=\"row_heading level0 row12\" >12</th>\n",
       "      <td id=\"T_95cb7_row12_col0\" class=\"data row12 col0\" >Studentenwerk, SafeSeat GmbH, MVG, </td>\n",
       "      <td id=\"T_95cb7_row12_col1\" class=\"data row12 col1\" >gleich</td>\n",
       "    </tr>\n",
       "    <tr>\n",
       "      <th id=\"T_95cb7_level0_row13\" class=\"row_heading level0 row13\" >13</th>\n",
       "      <td id=\"T_95cb7_row13_col0\" class=\"data row13 col0\" >uni werk verkehrsdienst</td>\n",
       "      <td id=\"T_95cb7_row13_col1\" class=\"data row13 col1\" >gleich wie bei 1</td>\n",
       "    </tr>\n",
       "    <tr>\n",
       "      <th id=\"T_95cb7_level0_row14\" class=\"row_heading level0 row14\" >14</th>\n",
       "      <td id=\"T_95cb7_row14_col0\" class=\"data row14 col0\" >email, photo</td>\n",
       "      <td id=\"T_95cb7_row14_col1\" class=\"data row14 col1\" >mvg, betribs</td>\n",
       "    </tr>\n",
       "  </tbody>\n",
       "</table>\n"
      ],
      "text/plain": [
       "<pandas.io.formats.style.Styler at 0x72d5707e1d80>"
      ]
     },
     "metadata": {},
     "output_type": "display_data"
    }
   ],
   "source": [
    "# Noticed Different Verifiers? (yes/no/don't know)\n",
    "verifier_df = pd.DataFrame({\n",
    "    \"Without Pre-Consent\": df[\"NoPC_Verifier\"].value_counts().astype('Int64'),\n",
    "    \"Without Pre-Consent (%)\": df[\"NoPC_Verifier\"].value_counts(normalize=True) * 100,\n",
    "    \"With Pre-Consent\": df[\"PC_Verifier\"].value_counts().astype('Int64'),\n",
    "    \"With Pre-Consent (%)\": df[\"PC_Verifier\"].value_counts(normalize=True) * 100,\n",
    "}).round(2).fillna(0)\n",
    "\n",
    "display(Markdown(\"### Responses: Noticed Different Verifiers\"))\n",
    "display(verifier_df)\n",
    "\n",
    "# Free-text responses for 'Yes'\n",
    "verifier_yes_text_nopc = df.loc[df[\"NoPC_Verifier\"] == \"Ja\", \"NoPC_Verifier_Open\"]\n",
    "verifier_yes_text_pc = df.loc[df[\"PC_Verifier\"] == \"Ja\", \"PC_Verifier_Open\"]\n",
    "\n",
    "# Combine free-text responses into a single DataFrame for display\n",
    "verifier_free_text_df = pd.DataFrame({\n",
    "    \"Without Pre-Consent\": verifier_yes_text_nopc.reset_index(drop=True),\n",
    "    \"With Pre-Consent\": verifier_yes_text_pc.reset_index(drop=True)\n",
    "})\n",
    "\n",
    "display(Markdown(\"### Free-Text Responses: Noticed Verifiers (Participants who answered 'Yes')\"))\n",
    "display(verifier_free_text_df.style.set_properties(**{'text-align': 'left'}))"
   ]
  },
  {
   "cell_type": "code",
   "execution_count": 14,
   "id": "3724b94c-8c59-42fc-8f32-d30087a81bf6",
   "metadata": {},
   "outputs": [
    {
     "data": {
      "text/markdown": [
       "### Responses: Surprised by Transactions"
      ],
      "text/plain": [
       "<IPython.core.display.Markdown object>"
      ]
     },
     "metadata": {},
     "output_type": "display_data"
    },
    {
     "data": {
      "text/html": [
       "<div>\n",
       "<style scoped>\n",
       "    .dataframe tbody tr th:only-of-type {\n",
       "        vertical-align: middle;\n",
       "    }\n",
       "\n",
       "    .dataframe tbody tr th {\n",
       "        vertical-align: top;\n",
       "    }\n",
       "\n",
       "    .dataframe thead th {\n",
       "        text-align: right;\n",
       "    }\n",
       "</style>\n",
       "<table border=\"1\" class=\"dataframe\">\n",
       "  <thead>\n",
       "    <tr style=\"text-align: right;\">\n",
       "      <th></th>\n",
       "      <th>Without Pre-Consent</th>\n",
       "      <th>Without Pre-Consent (%)</th>\n",
       "      <th>With Pre-Consent</th>\n",
       "      <th>With Pre-Consent (%)</th>\n",
       "    </tr>\n",
       "  </thead>\n",
       "  <tbody>\n",
       "    <tr>\n",
       "      <th>Ja</th>\n",
       "      <td>13</td>\n",
       "      <td>86.67</td>\n",
       "      <td>10</td>\n",
       "      <td>66.67</td>\n",
       "    </tr>\n",
       "    <tr>\n",
       "      <th>Nein</th>\n",
       "      <td>2</td>\n",
       "      <td>13.33</td>\n",
       "      <td>4</td>\n",
       "      <td>26.67</td>\n",
       "    </tr>\n",
       "    <tr>\n",
       "      <th>Weiß Nicht</th>\n",
       "      <td>0</td>\n",
       "      <td>0.00</td>\n",
       "      <td>1</td>\n",
       "      <td>6.67</td>\n",
       "    </tr>\n",
       "  </tbody>\n",
       "</table>\n",
       "</div>"
      ],
      "text/plain": [
       "            Without Pre-Consent  Without Pre-Consent (%)  With Pre-Consent  With Pre-Consent (%)\n",
       "Ja                           13                    86.67                10                 66.67\n",
       "Nein                          2                    13.33                 4                 26.67\n",
       "Weiß Nicht                    0                     0.00                 1                  6.67"
      ]
     },
     "metadata": {},
     "output_type": "display_data"
    },
    {
     "data": {
      "text/markdown": [
       "### Free-Text Responses: Surprised Transactions (Participants who answered 'Yes')"
      ],
      "text/plain": [
       "<IPython.core.display.Markdown object>"
      ]
     },
     "metadata": {},
     "output_type": "display_data"
    },
    {
     "data": {
      "text/html": [
       "<style type=\"text/css\">\n",
       "#T_8024d_row0_col0, #T_8024d_row0_col1, #T_8024d_row1_col0, #T_8024d_row1_col1, #T_8024d_row2_col0, #T_8024d_row2_col1, #T_8024d_row3_col0, #T_8024d_row3_col1, #T_8024d_row4_col0, #T_8024d_row4_col1, #T_8024d_row5_col0, #T_8024d_row5_col1, #T_8024d_row6_col0, #T_8024d_row6_col1, #T_8024d_row7_col0, #T_8024d_row7_col1, #T_8024d_row8_col0, #T_8024d_row8_col1, #T_8024d_row9_col0, #T_8024d_row9_col1, #T_8024d_row10_col0, #T_8024d_row10_col1, #T_8024d_row11_col0, #T_8024d_row11_col1, #T_8024d_row12_col0, #T_8024d_row12_col1 {\n",
       "  text-align: left;\n",
       "}\n",
       "</style>\n",
       "<table id=\"T_8024d\">\n",
       "  <thead>\n",
       "    <tr>\n",
       "      <th class=\"blank level0\" >&nbsp;</th>\n",
       "      <th id=\"T_8024d_level0_col0\" class=\"col_heading level0 col0\" >Without Pre-Consent</th>\n",
       "      <th id=\"T_8024d_level0_col1\" class=\"col_heading level0 col1\" >With Pre-Consent</th>\n",
       "    </tr>\n",
       "  </thead>\n",
       "  <tbody>\n",
       "    <tr>\n",
       "      <th id=\"T_8024d_level0_row0\" class=\"row_heading level0 row0\" >0</th>\n",
       "      <td id=\"T_8024d_row0_col0\" class=\"data row0 col0\" >freitag 3 war über 18, doppelte nachfrage </td>\n",
       "      <td id=\"T_8024d_row0_col1\" class=\"data row0 col1\" >Rabattierung (Daten über die Gruppenzugehörigkeit hinaus, z.B. Lichtbild)</td>\n",
       "    </tr>\n",
       "    <tr>\n",
       "      <th id=\"T_8024d_level0_row1\" class=\"row_heading level0 row1\" >1</th>\n",
       "      <td id=\"T_8024d_row1_col0\" class=\"data row1 col0\" >Freitag 3; Daten über die Gruppenzugehörigkeit hinaus. z.B. Lichtbild</td>\n",
       "      <td id=\"T_8024d_row1_col1\" class=\"data row1 col1\" >Konzert - Wozu meine Mail</td>\n",
       "    </tr>\n",
       "    <tr>\n",
       "      <th id=\"T_8024d_level0_row2\" class=\"row_heading level0 row2\" >2</th>\n",
       "      <td id=\"T_8024d_row2_col0\" class=\"data row2 col0\" >Donnerstag 3 - Warum will ein Club meine Mail?</td>\n",
       "      <td id=\"T_8024d_row2_col1\" class=\"data row2 col1\" >Entweder Ausstellung, Messe oder Oper wollte meine Mailadresse</td>\n",
       "    </tr>\n",
       "    <tr>\n",
       "      <th id=\"T_8024d_level0_row3\" class=\"row_heading level0 row3\" >3</th>\n",
       "      <td id=\"T_8024d_row3_col0\" class=\"data row3 col0\" >Club ->  E-Mail\n",
       "MVG -> Gender</td>\n",
       "      <td id=\"T_8024d_row3_col1\" class=\"data row3 col1\" >Emailabfrage bei einem externen Anbieter, die aus meiner Sicht für sen Fall nicht erforderlich war</td>\n",
       "    </tr>\n",
       "    <tr>\n",
       "      <th id=\"T_8024d_level0_row4\" class=\"row_heading level0 row4\" >4</th>\n",
       "      <td id=\"T_8024d_row4_col0\" class=\"data row4 col0\" >Externer Anbieter hat Email abgefragt</td>\n",
       "      <td id=\"T_8024d_row4_col1\" class=\"data row4 col1\" >popup nach Freigabe, obwohl Freigabe keine automatische Übertragung bei dem Anbieter mit der Freigabe </td>\n",
       "    </tr>\n",
       "    <tr>\n",
       "      <th id=\"T_8024d_level0_row5\" class=\"row_heading level0 row5\" >5</th>\n",
       "      <td id=\"T_8024d_row5_col0\" class=\"data row5 col0\" >e-mail bei Veranstaltungen</td>\n",
       "      <td id=\"T_8024d_row5_col1\" class=\"data row5 col1\" >gender</td>\n",
       "    </tr>\n",
       "    <tr>\n",
       "      <th id=\"T_8024d_level0_row6\" class=\"row_heading level0 row6\" >6</th>\n",
       "      <td id=\"T_8024d_row6_col0\" class=\"data row6 col0\" >gender, wherever they asked</td>\n",
       "      <td id=\"T_8024d_row6_col1\" class=\"data row6 col1\" >analog app 1, konzert, staatsoper</td>\n",
       "    </tr>\n",
       "    <tr>\n",
       "      <th id=\"T_8024d_level0_row7\" class=\"row_heading level0 row7\" >7</th>\n",
       "      <td id=\"T_8024d_row7_col0\" class=\"data row7 col0\" >club - email, oper - genaues geburtsdatum</td>\n",
       "      <td id=\"T_8024d_row7_col1\" class=\"data row7 col1\" >Wieder das Alter bei der Staatsoper</td>\n",
       "    </tr>\n",
       "    <tr>\n",
       "      <th id=\"T_8024d_level0_row8\" class=\"row_heading level0 row8\" >8</th>\n",
       "      <td id=\"T_8024d_row8_col0\" class=\"data row8 col0\" >abfrage der Email durch club, Abfrage Alter bei Besuch der Staatsoper </td>\n",
       "      <td id=\"T_8024d_row8_col1\" class=\"data row8 col1\" >gleich wie bei 1. </td>\n",
       "    </tr>\n",
       "    <tr>\n",
       "      <th id=\"T_8024d_level0_row9\" class=\"row_heading level0 row9\" >9</th>\n",
       "      <td id=\"T_8024d_row9_col0\" class=\"data row9 col0\" >ich erinnere mich nicht mehr, aber es shared seat gmbh</td>\n",
       "      <td id=\"T_8024d_row9_col1\" class=\"data row9 col1\" >Konzert Donnerstag, Altersnachweis Übertragung von über 18 & Date of Birth</td>\n",
       "    </tr>\n",
       "    <tr>\n",
       "      <th id=\"T_8024d_level0_row10\" class=\"row_heading level0 row10\" >10</th>\n",
       "      <td id=\"T_8024d_row10_col0\" class=\"data row10 col0\" >geschlecht bei Identität, ID bei seminar und nicht bei klausur</td>\n",
       "      <td id=\"T_8024d_row10_col1\" class=\"data row10 col1\" >nan</td>\n",
       "    </tr>\n",
       "    <tr>\n",
       "      <th id=\"T_8024d_level0_row11\" class=\"row_heading level0 row11\" >11</th>\n",
       "      <td id=\"T_8024d_row11_col0\" class=\"data row11 col0\" >Club (Donnerstag) </td>\n",
       "      <td id=\"T_8024d_row11_col1\" class=\"data row11 col1\" >nan</td>\n",
       "    </tr>\n",
       "    <tr>\n",
       "      <th id=\"T_8024d_level0_row12\" class=\"row_heading level0 row12\" >12</th>\n",
       "      <td id=\"T_8024d_row12_col0\" class=\"data row12 col0\" >manchmal zu wenig abfrage zb seminar</td>\n",
       "      <td id=\"T_8024d_row12_col1\" class=\"data row12 col1\" >nan</td>\n",
       "    </tr>\n",
       "  </tbody>\n",
       "</table>\n"
      ],
      "text/plain": [
       "<pandas.io.formats.style.Styler at 0x72d513947700>"
      ]
     },
     "metadata": {},
     "output_type": "display_data"
    }
   ],
   "source": [
    "# Surprised by data fields in Transactions? (yes/no/don't know)\n",
    "transaction_df = pd.DataFrame({\n",
    "    \"Without Pre-Consent\": df[\"NoPC_Transaction\"].value_counts().astype('Int64'),\n",
    "    \"Without Pre-Consent (%)\": df[\"NoPC_Transaction\"].value_counts(normalize=True) * 100,\n",
    "    \"With Pre-Consent\": df[\"PC_Transaction\"].value_counts().astype('Int64'),\n",
    "    \"With Pre-Consent (%)\": df[\"PC_Transaction\"].value_counts(normalize=True) * 100,\n",
    "}).round(2).fillna(0)\n",
    "\n",
    "display(Markdown(\"### Responses: Surprised by Transactions\"))\n",
    "display(transaction_df)\n",
    "\n",
    "# Free-text responses for 'Yes'\n",
    "transaction_yes_text_nopc = df.loc[df[\"NoPC_Transaction\"] == \"Ja\", \"NoPC_Transaction_Open\"]\n",
    "transaction_yes_text_pc = df.loc[df[\"PC_Transaction\"] == \"Ja\", \"PC_Transaction_Open\"]\n",
    "\n",
    "# Combine free-text responses into a single DataFrame for display\n",
    "transaction_free_text_df = pd.DataFrame({\n",
    "    \"Without Pre-Consent\": transaction_yes_text_nopc.reset_index(drop=True),\n",
    "    \"With Pre-Consent\": transaction_yes_text_pc.reset_index(drop=True)\n",
    "})\n",
    "\n",
    "display(Markdown(\"### Free-Text Responses: Surprised Transactions (Participants who answered 'Yes')\"))\n",
    "display(transaction_free_text_df.style.set_properties(**{'text-align': 'left'}))"
   ]
  },
  {
   "cell_type": "markdown",
   "id": "a6738c98-4ee5-442a-86c4-19ac1dc8c97c",
   "metadata": {},
   "source": [
    "## SUS Scale  \n",
    "\n",
    "The **System Usability Scale (SUS)** is a standardized questionnaire designed to assess the usability of a system. It consists of 10 items that participants rate on a 5-point Likert scale, alternating between positive and negative phrasing. The SUS score provides a quick and reliable measure of perceived usability, with higher scores indicating better usability.  \n",
    "\n",
    "### Issues in the Questionnaire Design  \n",
    "\n",
    "During the creation of the questionnaire for the pre-consent mechanism, the following issues were overlooked:  \n",
    "\n",
    "1. **Missing Questions**:  \n",
    "   Questions 6 and 10 were unintentionally left out:  \n",
    "   - Question 6: *\"I thought there was too much inconsistency in this system\"*  \n",
    "   - Question 10: *\"I needed to learn a lot of things before I could get going with this system\"*  \n",
    "\n",
    "   While this omission does not invalidate the SUS, it makes the calculated score a **\"Minimalschätzer\" (minimum estimator)**. This means the score represents the lowest possible usability score that could have been achieved if these questions were included, assuming the participants would have rated them with a score of zero.\n",
    "\n",
    "2. **Switched Questions**:  \n",
    "   During the design process, two questions were swapped:  \n",
    "   - Question 4 (*\"I found the system very cumbersome to use\"*) and Question 9 (*\"I felt very confident using the system\"*) were interchanged.  \n",
    "   This is critical for mapping responses to their intended items during analysis, as positive and negative items are scored differently.\n",
    "\n",
    "### Adjustments for Analysis  \n",
    "\n",
    "To accommodate these issues:  \n",
    "- **Omitted Questions**: No imputation or estimation is performed for the missing questions. The SUS score is treated as a lower-bound estimate of usability.  \n",
    "- **Switched Questions**: The mapping of responses is adjusted during the calculation process to ensure the scoring reflects the original question order.\n",
    "\n",
    "### Implications  \n",
    "\n",
    "Despite the above issues, the SUS remains a valid measure for assessing the usability of the pre-consent mechanism. However, the score should be interpreted with the understanding that it might underestimate the true usability due to the omitted questions."
   ]
  },
  {
   "cell_type": "code",
   "execution_count": 15,
   "id": "ef55cd2b-f5ff-456a-968f-4c10eba2f74f",
   "metadata": {},
   "outputs": [
    {
     "data": {
      "text/html": [
       "<style type=\"text/css\">\n",
       "#T_740d3_row0_col0, #T_740d3_row0_col1, #T_740d3_row1_col0, #T_740d3_row1_col1, #T_740d3_row2_col0, #T_740d3_row2_col1, #T_740d3_row3_col0, #T_740d3_row3_col1, #T_740d3_row4_col0, #T_740d3_row4_col1, #T_740d3_row5_col0, #T_740d3_row5_col1, #T_740d3_row6_col0, #T_740d3_row6_col1, #T_740d3_row7_col0, #T_740d3_row7_col1 {\n",
       "  text-align: left;\n",
       "}\n",
       "</style>\n",
       "<table id=\"T_740d3\">\n",
       "  <thead>\n",
       "    <tr>\n",
       "      <th class=\"blank level0\" >&nbsp;</th>\n",
       "      <th id=\"T_740d3_level0_col0\" class=\"col_heading level0 col0\" >Abbreviated Label</th>\n",
       "      <th id=\"T_740d3_level0_col1\" class=\"col_heading level0 col1\" >Original Label</th>\n",
       "    </tr>\n",
       "  </thead>\n",
       "  <tbody>\n",
       "    <tr>\n",
       "      <th id=\"T_740d3_level0_row0\" class=\"row_heading level0 row0\" >0</th>\n",
       "      <td id=\"T_740d3_row0_col0\" class=\"data row0 col0\" >PC_SUS_01</td>\n",
       "      <td id=\"T_740d3_row0_col1\" class=\"data row0 col1\" >Ich kann mir sehr gut vorstellen, das System regelmäßig zu nutzen.</td>\n",
       "    </tr>\n",
       "    <tr>\n",
       "      <th id=\"T_740d3_level0_row1\" class=\"row_heading level0 row1\" >1</th>\n",
       "      <td id=\"T_740d3_row1_col0\" class=\"data row1 col0\" >PC_SUS_02</td>\n",
       "      <td id=\"T_740d3_row1_col1\" class=\"data row1 col1\" >Ich empfinde das System als unnötig komplex.</td>\n",
       "    </tr>\n",
       "    <tr>\n",
       "      <th id=\"T_740d3_level0_row2\" class=\"row_heading level0 row2\" >2</th>\n",
       "      <td id=\"T_740d3_row2_col0\" class=\"data row2 col0\" >PC_SUS_03</td>\n",
       "      <td id=\"T_740d3_row2_col1\" class=\"data row2 col1\" >Ich empfinde das System als einfach zu nutzen.</td>\n",
       "    </tr>\n",
       "    <tr>\n",
       "      <th id=\"T_740d3_level0_row3\" class=\"row_heading level0 row3\" >3</th>\n",
       "      <td id=\"T_740d3_row3_col0\" class=\"data row3 col0\" >PC_SUS_04</td>\n",
       "      <td id=\"T_740d3_row3_col1\" class=\"data row3 col1\" >Ich brauche Hilfe, um das System zu verstehen.</td>\n",
       "    </tr>\n",
       "    <tr>\n",
       "      <th id=\"T_740d3_level0_row4\" class=\"row_heading level0 row4\" >4</th>\n",
       "      <td id=\"T_740d3_row4_col0\" class=\"data row4 col0\" >PC_SUS_05</td>\n",
       "      <td id=\"T_740d3_row4_col1\" class=\"data row4 col1\" >Ich finde, dass die verschiedenen Funktionen des Systems gut integriert sind.</td>\n",
       "    </tr>\n",
       "    <tr>\n",
       "      <th id=\"T_740d3_level0_row5\" class=\"row_heading level0 row5\" >5</th>\n",
       "      <td id=\"T_740d3_row5_col0\" class=\"data row5 col0\" >PC_SUS_07</td>\n",
       "      <td id=\"T_740d3_row5_col1\" class=\"data row5 col1\" >Ich kann mir vorstellen, dass die meisten Leute das System schnell zu beherrschen lernen.</td>\n",
       "    </tr>\n",
       "    <tr>\n",
       "      <th id=\"T_740d3_level0_row6\" class=\"row_heading level0 row6\" >7</th>\n",
       "      <td id=\"T_740d3_row6_col0\" class=\"data row6 col0\" >PC_SUS_08</td>\n",
       "      <td id=\"T_740d3_row6_col1\" class=\"data row6 col1\" >Ich empfinde die Bedienung als sehr umständlich.</td>\n",
       "    </tr>\n",
       "    <tr>\n",
       "      <th id=\"T_740d3_level0_row7\" class=\"row_heading level0 row7\" >6</th>\n",
       "      <td id=\"T_740d3_row7_col0\" class=\"data row7 col0\" >PC_SUS_09</td>\n",
       "      <td id=\"T_740d3_row7_col1\" class=\"data row7 col1\" >Ich habe mich bei der Nutzung des Systems sehr sicher gefühlt.</td>\n",
       "    </tr>\n",
       "  </tbody>\n",
       "</table>\n"
      ],
      "text/plain": [
       "<pandas.io.formats.style.Styler at 0x72d513946200>"
      ]
     },
     "metadata": {},
     "output_type": "display_data"
    }
   ],
   "source": [
    "sus_columns = list(filter(lambda x: x.startswith(\"PC_SUS_\"), column_labels))\n",
    "\n",
    "sus_original_labels = map(lambda x: get_original_label(x, subquestion_only=True), sus_columns)\n",
    "\n",
    "# Create a mapping DataFrame\n",
    "sus_mapping_df = pd.DataFrame({\n",
    "    \"Abbreviated Label\": sus_columns,              \n",
    "    \"Original Label\": sus_original_labels\n",
    "}).sort_values(by=\"Abbreviated Label\")\n",
    "\n",
    "# Display the mapping of abbreviation -> original label \n",
    "# This allows users to verifiy question mapping for SUS\n",
    "display(sus_mapping_df.style.set_properties(**{'text-align': 'left'}))"
   ]
  },
  {
   "cell_type": "code",
   "execution_count": 16,
   "id": "ec021e60-265d-412c-b8bf-17fad945bde5",
   "metadata": {},
   "outputs": [
    {
     "data": {
      "text/markdown": [
       "### Mean of SUS Scale"
      ],
      "text/plain": [
       "<IPython.core.display.Markdown object>"
      ]
     },
     "metadata": {},
     "output_type": "display_data"
    },
    {
     "data": {
      "text/markdown": [
       "**Mean:** 69.0"
      ],
      "text/plain": [
       "<IPython.core.display.Markdown object>"
      ]
     },
     "metadata": {},
     "output_type": "display_data"
    },
    {
     "data": {
      "text/markdown": [
       "**Standard Deviation (SD):** 8.01"
      ],
      "text/plain": [
       "<IPython.core.display.Markdown object>"
      ]
     },
     "metadata": {},
     "output_type": "display_data"
    },
    {
     "data": {
      "text/markdown": [
       "**Cronbach's Alpha:** 0.77"
      ],
      "text/plain": [
       "<IPython.core.display.Markdown object>"
      ]
     },
     "metadata": {},
     "output_type": "display_data"
    },
    {
     "data": {
      "text/markdown": [
       "### Mean & SD for SUS Scale by Group"
      ],
      "text/plain": [
       "<IPython.core.display.Markdown object>"
      ]
     },
     "metadata": {},
     "output_type": "display_data"
    },
    {
     "data": {
      "text/html": [
       "<div>\n",
       "<style scoped>\n",
       "    .dataframe tbody tr th:only-of-type {\n",
       "        vertical-align: middle;\n",
       "    }\n",
       "\n",
       "    .dataframe tbody tr th {\n",
       "        vertical-align: top;\n",
       "    }\n",
       "\n",
       "    .dataframe thead th {\n",
       "        text-align: right;\n",
       "    }\n",
       "</style>\n",
       "<table border=\"1\" class=\"dataframe\">\n",
       "  <thead>\n",
       "    <tr style=\"text-align: right;\">\n",
       "      <th></th>\n",
       "      <th>Group</th>\n",
       "      <th>Mean SUS Scale</th>\n",
       "      <th>SD SUS Scale</th>\n",
       "    </tr>\n",
       "  </thead>\n",
       "  <tbody>\n",
       "    <tr>\n",
       "      <th>0</th>\n",
       "      <td>Mitarbeiter</td>\n",
       "      <td>65.625000</td>\n",
       "      <td>10.873324</td>\n",
       "    </tr>\n",
       "    <tr>\n",
       "      <th>1</th>\n",
       "      <td>Studierende</td>\n",
       "      <td>70.227273</td>\n",
       "      <td>6.933122</td>\n",
       "    </tr>\n",
       "  </tbody>\n",
       "</table>\n",
       "</div>"
      ],
      "text/plain": [
       "         Group  Mean SUS Scale  SD SUS Scale\n",
       "0  Mitarbeiter       65.625000     10.873324\n",
       "1  Studierende       70.227273      6.933122"
      ]
     },
     "metadata": {},
     "output_type": "display_data"
    },
    {
     "data": {
      "text/markdown": [
       "### Distribution of SUS Scale Scores"
      ],
      "text/plain": [
       "<IPython.core.display.Markdown object>"
      ]
     },
     "metadata": {},
     "output_type": "display_data"
    },
    {
     "data": {
      "text/plain": [
       "Text(0, 0.5, 'SUS Scale')"
      ]
     },
     "execution_count": 16,
     "metadata": {},
     "output_type": "execute_result"
    },
    {
     "data": {
      "image/png": "[encoded data removed]",
      "text/plain": [
       "<Figure size 640x480 with 1 Axes>"
      ]
     },
     "metadata": {},
     "output_type": "display_data"
    }
   ],
   "source": [
    "# Mapping for positively scored SUS items\n",
    "# Higher agreement corresponds to higher scores\n",
    "sus_response_map_positive = {\n",
    "    \"Trifft gar nicht zu\": 0,\n",
    "    \"Trifft eher nicht zu\": 1,\n",
    "    \"Teils / Teils\": 2,\n",
    "    \"Trifft eher zu\": 3,\n",
    "    \"Trifft vollständig zu\": 4                                                     \n",
    "}\n",
    "\n",
    "# Mapping for negatively scored SUS items\n",
    "# Reverse-coded: Higher agreement corresponds to lower scores\n",
    "sus_response_map_negative = {\n",
    "    \"Trifft gar nicht zu\": 4,\n",
    "    \"Trifft eher nicht zu\": 3,\n",
    "    \"Teils / Teils\": 2,\n",
    "    \"Trifft eher zu\": 1,\n",
    "    \"Trifft vollständig zu\": 0\n",
    "}\n",
    "\n",
    "\n",
    "# Define the SUS columns\n",
    "sus_columns_positive = [\"PC_SUS_01\", \"PC_SUS_03\", \"PC_SUS_05\", \"PC_SUS_07\", \"PC_SUS_09\"]\n",
    "sus_columns_negative = [\"PC_SUS_02\", \"PC_SUS_04\", \"PC_SUS_08\"] \n",
    "\n",
    "# Copy DataFrame for SUS transformations\n",
    "sus_df = df.copy()\n",
    "\n",
    "# Recode positive SUS items\n",
    "for col in sus_columns_positive:\n",
    "    sus_df[col] = sus_df[col].map(sus_response_map_positive)\n",
    "\n",
    "# Recode negative SUS items\n",
    "for col in sus_columns_negative:\n",
    "    sus_df[col] = sus_df[col].map(sus_response_map_negative)\n",
    "\n",
    "# Calculate the SUS scale as the sum of all SUS columns, multiplied by 2.5\n",
    "sus_columns = sus_columns_positive + sus_columns_negative\n",
    "sus_df[\"SUS_Scale\"] = sus_df[sus_columns].sum(axis=1) * 2.5\n",
    "\n",
    "# Calculate overall mean, sd of SUS_Scale\n",
    "sus_overall_mean = sus_df[\"SUS_Scale\"].mean()\n",
    "sus_overall_sd = sus_df['SUS_Scale'].std()\n",
    "\n",
    "# Calculate Cronbach's alpha for the SUS items using Pingouin\n",
    "sus_items = sus_df[sus_columns]  # Only the columns used for the SUS scale\n",
    "sus_alpha = pg.cronbach_alpha(data=sus_items)\n",
    "\n",
    "# Display overall SUS_Scale mean, standard deviation and Cronbach's alpha\n",
    "display(Markdown(\"### Mean of SUS Scale\"))\n",
    "display(Markdown(f\"**Mean:** {round(sus_overall_mean, 2)}\"))\n",
    "display(Markdown(f\"**Standard Deviation (SD):** {round(sus_overall_sd, 2)}\"))\n",
    "display(Markdown(f\"**Cronbach's Alpha:** {round(sus_alpha[0], 2)}\"))\n",
    "\n",
    "# Calculate mean and SD of SUS_Scale grouped by 'Group'\n",
    "sus_group_stats = sus_df.groupby('Group')['SUS_Scale'].agg(['mean', 'std']).reset_index()\n",
    "sus_group_stats.columns = ['Group', 'Mean SUS Scale', 'SD SUS Scale']\n",
    "\n",
    "# Display SUS_Scale group means, sd in a table\n",
    "display(Markdown(\"### Mean & SD for SUS Scale by Group\"))\n",
    "display(sus_group_stats)\n",
    "\n",
    "# Plot data\n",
    "display(Markdown(\"### Distribution of SUS Scale Scores\"))\n",
    "ax = sns.boxplot(\n",
    "    y=sus_df[\"SUS_Scale\"],\n",
    "    color=\"cornflowerblue\"\n",
    ")\n",
    "ax.set_ylabel(\"SUS Scale\")"
   ]
  },
  {
   "cell_type": "markdown",
   "id": "cdb6f66b-adde-4257-9b84-4e415814ec1d",
   "metadata": {},
   "source": [
    "## System Preference\n",
    "\n",
    "Participants were asked which system they preferred: the one with pre-consent, the one without pre-consent, or they could choose options indicating indecisiveness or uncertainty. The majority of participants (14 out of 15) preferred the system with pre-consent."
   ]
  },
  {
   "cell_type": "code",
   "execution_count": 17,
   "id": "cb48eea9-fd01-45fc-95f6-b3d530cbf893",
   "metadata": {},
   "outputs": [
    {
     "data": {
      "text/markdown": [
       "### System Preference \n",
       " **Original Question**: Welches der beiden Systeme würden Sie bevorzugen? "
      ],
      "text/plain": [
       "<IPython.core.display.Markdown object>"
      ]
     },
     "metadata": {},
     "output_type": "display_data"
    },
    {
     "data": {
      "text/html": [
       "<div>\n",
       "<style scoped>\n",
       "    .dataframe tbody tr th:only-of-type {\n",
       "        vertical-align: middle;\n",
       "    }\n",
       "\n",
       "    .dataframe tbody tr th {\n",
       "        vertical-align: top;\n",
       "    }\n",
       "\n",
       "    .dataframe thead th {\n",
       "        text-align: right;\n",
       "    }\n",
       "</style>\n",
       "<table border=\"1\" class=\"dataframe\">\n",
       "  <thead>\n",
       "    <tr style=\"text-align: right;\">\n",
       "      <th></th>\n",
       "      <th>Total</th>\n",
       "      <th>Percentage (%)</th>\n",
       "    </tr>\n",
       "    <tr>\n",
       "      <th>System_Preference</th>\n",
       "      <th></th>\n",
       "      <th></th>\n",
       "    </tr>\n",
       "  </thead>\n",
       "  <tbody>\n",
       "    <tr>\n",
       "      <th>App mit Pre-Consent</th>\n",
       "      <td>14</td>\n",
       "      <td>93.33</td>\n",
       "    </tr>\n",
       "    <tr>\n",
       "      <th>App ohne Pre-Consent</th>\n",
       "      <td>1</td>\n",
       "      <td>6.67</td>\n",
       "    </tr>\n",
       "  </tbody>\n",
       "</table>\n",
       "</div>"
      ],
      "text/plain": [
       "                      Total  Percentage (%)\n",
       "System_Preference                          \n",
       "App mit Pre-Consent      14           93.33\n",
       "App ohne Pre-Consent      1            6.67"
      ]
     },
     "metadata": {},
     "output_type": "display_data"
    }
   ],
   "source": [
    "# Calculate totals and percentages for \"System_Preference\"\n",
    "system_preference_df = pd.DataFrame({\n",
    "    \"Total\": df['System_Preference'].value_counts(),\n",
    "    \"Percentage (%)\": df['System_Preference'].value_counts(normalize=True) * 100\n",
    "}).round(2)\n",
    "\n",
    "# Display the table\n",
    "display(Markdown(f\"### System Preference \\n **Original Question**: {get_original_label('System_Preference')}\"))\n",
    "display(system_preference_df)"
   ]
  },
  {
   "cell_type": "markdown",
   "id": "9cb1a5e5-cc9c-4c73-aabb-ee39eca3da3f",
   "metadata": {},
   "source": [
    "## Pre-Consent Mechanism (Usability & Trust)  \n",
    "\n",
    "Participants were asked to evaluate the pre-consent mechanism regarding its functionality and usability on a scale ranging from *\"Very Good\"* to *\"Poor\"*. All participants found the mechanism easy to use, with 5 rating it as *\"Very Good\"* and 10 as *\"Good\"*.  \n",
    "\n",
    "Regarding trust, participants were asked to evaluate the pre-consent mechanism on a scale from *\"Do Not Trust At All\"* to *\"Fully Trust\"*. The results showed that 73.33% of participants expressed *\"Somewhat Trust\"*, while 26.67% expressed *\"Fully Trust\"*.  \n"
   ]
  },
  {
   "cell_type": "code",
   "execution_count": 18,
   "id": "37c29a4b-2e15-4957-baf0-f83e5b98a3c9",
   "metadata": {},
   "outputs": [
    {
     "data": {
      "text/markdown": [
       "### Pre-Consent Usability \n",
       " **Original Question**: Wie bewerten Sie den Pre-Consent-Mechanismus in Bezug auf seine Funktionalität und Benutzerfreundlichkeit?"
      ],
      "text/plain": [
       "<IPython.core.display.Markdown object>"
      ]
     },
     "metadata": {},
     "output_type": "display_data"
    },
    {
     "data": {
      "text/html": [
       "<div>\n",
       "<style scoped>\n",
       "    .dataframe tbody tr th:only-of-type {\n",
       "        vertical-align: middle;\n",
       "    }\n",
       "\n",
       "    .dataframe tbody tr th {\n",
       "        vertical-align: top;\n",
       "    }\n",
       "\n",
       "    .dataframe thead th {\n",
       "        text-align: right;\n",
       "    }\n",
       "</style>\n",
       "<table border=\"1\" class=\"dataframe\">\n",
       "  <thead>\n",
       "    <tr style=\"text-align: right;\">\n",
       "      <th></th>\n",
       "      <th>Total</th>\n",
       "      <th>Percentage (%)</th>\n",
       "    </tr>\n",
       "    <tr>\n",
       "      <th>PreConsent_Usability</th>\n",
       "      <th></th>\n",
       "      <th></th>\n",
       "    </tr>\n",
       "  </thead>\n",
       "  <tbody>\n",
       "    <tr>\n",
       "      <th>Gut</th>\n",
       "      <td>10</td>\n",
       "      <td>66.67</td>\n",
       "    </tr>\n",
       "    <tr>\n",
       "      <th>Sehr gut</th>\n",
       "      <td>5</td>\n",
       "      <td>33.33</td>\n",
       "    </tr>\n",
       "  </tbody>\n",
       "</table>\n",
       "</div>"
      ],
      "text/plain": [
       "                      Total  Percentage (%)\n",
       "PreConsent_Usability                       \n",
       "Gut                      10           66.67\n",
       "Sehr gut                  5           33.33"
      ]
     },
     "metadata": {},
     "output_type": "display_data"
    }
   ],
   "source": [
    "# Pre-Consent Usability\n",
    "# Calculate totals and percentages for \"System_Preference\"\n",
    "preconsent_usability_df = pd.DataFrame({\n",
    "    \"Total\": df['PreConsent_Usability'].value_counts(),\n",
    "    \"Percentage (%)\": df['PreConsent_Usability'].value_counts(normalize=True) * 100\n",
    "}).round(2)\n",
    "\n",
    "# Display the table\n",
    "display(Markdown(f\"### Pre-Consent Usability \\n **Original Question**: {get_original_label('PreConsent_Usability')}\"))\n",
    "display(preconsent_usability_df)"
   ]
  },
  {
   "cell_type": "code",
   "execution_count": 19,
   "id": "356caaab-c8df-483b-b902-22500194e868",
   "metadata": {},
   "outputs": [
    {
     "data": {
      "text/markdown": [
       "### Pre-Consent Trust \n",
       " **Original Question**: Inwieweit würden sie dem gezeigten Pre-Consent Mechanismus vertrauen?"
      ],
      "text/plain": [
       "<IPython.core.display.Markdown object>"
      ]
     },
     "metadata": {},
     "output_type": "display_data"
    },
    {
     "data": {
      "text/html": [
       "<div>\n",
       "<style scoped>\n",
       "    .dataframe tbody tr th:only-of-type {\n",
       "        vertical-align: middle;\n",
       "    }\n",
       "\n",
       "    .dataframe tbody tr th {\n",
       "        vertical-align: top;\n",
       "    }\n",
       "\n",
       "    .dataframe thead th {\n",
       "        text-align: right;\n",
       "    }\n",
       "</style>\n",
       "<table border=\"1\" class=\"dataframe\">\n",
       "  <thead>\n",
       "    <tr style=\"text-align: right;\">\n",
       "      <th></th>\n",
       "      <th>Total</th>\n",
       "      <th>Percentage (%)</th>\n",
       "    </tr>\n",
       "    <tr>\n",
       "      <th>PreConsent_Trust</th>\n",
       "      <th></th>\n",
       "      <th></th>\n",
       "    </tr>\n",
       "  </thead>\n",
       "  <tbody>\n",
       "    <tr>\n",
       "      <th>Eher Vertrauen</th>\n",
       "      <td>11</td>\n",
       "      <td>73.33</td>\n",
       "    </tr>\n",
       "    <tr>\n",
       "      <th>Voll Vertrauen</th>\n",
       "      <td>4</td>\n",
       "      <td>26.67</td>\n",
       "    </tr>\n",
       "  </tbody>\n",
       "</table>\n",
       "</div>"
      ],
      "text/plain": [
       "                  Total  Percentage (%)\n",
       "PreConsent_Trust                       \n",
       "Eher Vertrauen       11           73.33\n",
       "Voll Vertrauen        4           26.67"
      ]
     },
     "metadata": {},
     "output_type": "display_data"
    }
   ],
   "source": [
    "# Pre-Consent Trust\n",
    "# Calculate totals and percentages for \"PreConsent_Trust\"\n",
    "preconsent_trust_df = pd.DataFrame({\n",
    "    \"Total\": df['PreConsent_Trust'].value_counts(),\n",
    "    \"Percentage (%)\": df['PreConsent_Trust'].value_counts(normalize=True) * 100\n",
    "}).round(2)\n",
    "\n",
    "# Display the table\n",
    "display(Markdown(f\"### Pre-Consent Trust \\n **Original Question**: {get_original_label('PreConsent_Trust')}\"))\n",
    "display(preconsent_trust_df)"
   ]
  },
  {
   "cell_type": "markdown",
   "id": "213eb2c8-95de-4dc2-8cba-8be7e6ed195a",
   "metadata": {},
   "source": [
    "## Inferenzstatistik\n",
    "\n",
    "This section demonstrates the application of inferential statistical methods to the collected data. While these methods provide valuable insights into relationships and differences within larger datasets, it is important to note that the current sample size of 15 participants is too small to yield statistically meaningful or generalizable results. Consequently, the analysis presented here should be regarded as a demonstration of technique rather than an attempt to draw robust conclusions about the population.\n",
    "\n",
    "To explore the data, we apply the following statistical tests:\n",
    "\n",
    "- **Chi-Squared Test**: Used to analyze categorical data and evaluate whether there is a significant association between variables. In this case, it is applied to examine differences in categorical responses between system variants (e.g., with and without pre-consent).\n",
    "  \n",
    "- **Paired t-Test**: Used to compare the means of two related groups (e.g., the same participants' responses for the two system variants). This test evaluates whether the observed differences are statistically significant."
   ]
  },
  {
   "cell_type": "code",
   "execution_count": 20,
   "id": "5f56f751-67d2-404e-821d-fc2feac9b113",
   "metadata": {},
   "outputs": [
    {
     "data": {
      "text/markdown": [
       "## Chi2-Test: Verifier and PreConsent Mechanism"
      ],
      "text/plain": [
       "<IPython.core.display.Markdown object>"
      ]
     },
     "metadata": {},
     "output_type": "display_data"
    },
    {
     "data": {
      "text/markdown": [
       "### Chi-Squared Test Results"
      ],
      "text/plain": [
       "<IPython.core.display.Markdown object>"
      ]
     },
     "metadata": {},
     "output_type": "display_data"
    },
    {
     "data": {
      "text/plain": [
       "(PC_Verifier      Ja\n",
       " NoPC_Verifier      \n",
       " Ja             15.0,\n",
       " PC_Verifier    Ja\n",
       " NoPC_Verifier    \n",
       " Ja             15,\n",
       "                  test    lambda  chi2  dof  pval  cramer  power\n",
       " 0             pearson  1.000000   0.0  0.0   1.0     NaN    NaN\n",
       " 1        cressie-read  0.666667   0.0  0.0   1.0     NaN    NaN\n",
       " 2      log-likelihood  0.000000   0.0  0.0   1.0     NaN    NaN\n",
       " 3       freeman-tukey -0.500000   0.0  0.0   1.0     NaN    NaN\n",
       " 4  mod-log-likelihood -1.000000   0.0  0.0   1.0     NaN    NaN\n",
       " 5              neyman -2.000000   0.0  0.0   1.0     NaN    NaN)"
      ]
     },
     "metadata": {},
     "output_type": "display_data"
    },
    {
     "name": "stderr",
     "output_type": "stream",
     "text": [
      "/home/simon/miniconda3/lib/python3.10/site-packages/pingouin/contingency.py:151: UserWarning: Low count on observed frequencies.\n",
      "  warnings.warn(f\"Low count on {name} frequencies.\")\n",
      "/home/simon/miniconda3/lib/python3.10/site-packages/pingouin/contingency.py:151: UserWarning: Low count on expected frequencies.\n",
      "  warnings.warn(f\"Low count on {name} frequencies.\")\n",
      "/home/simon/.local/lib/python3.10/site-packages/scipy/stats/_stats_py.py:7416: RuntimeWarning: divide by zero encountered in power\n",
      "  terms = f_obs * ((f_obs / f_exp)**lambda_ - 1)\n",
      "/home/simon/.local/lib/python3.10/site-packages/scipy/stats/_stats_py.py:7416: RuntimeWarning: invalid value encountered in multiply\n",
      "  terms = f_obs * ((f_obs / f_exp)**lambda_ - 1)\n",
      "/home/simon/.local/lib/python3.10/site-packages/scipy/stats/_stats_py.py:7413: RuntimeWarning: divide by zero encountered in divide\n",
      "  terms = 2.0 * special.xlogy(f_exp, f_exp / f_obs)\n"
     ]
    },
    {
     "data": {
      "text/markdown": [
       "## Chi2-Test: Noticing Unexpected Transactions and PreConsent Mechanism"
      ],
      "text/plain": [
       "<IPython.core.display.Markdown object>"
      ]
     },
     "metadata": {},
     "output_type": "display_data"
    },
    {
     "data": {
      "text/markdown": [
       "### Chi-Squared Test Results"
      ],
      "text/plain": [
       "<IPython.core.display.Markdown object>"
      ]
     },
     "metadata": {},
     "output_type": "display_data"
    },
    {
     "data": {
      "text/plain": [
       "(PC_Transaction          Ja      Nein  Weiß Nicht\n",
       " NoPC_Transaction                                \n",
       " Ja                8.666667  3.466667    0.866667\n",
       " Nein              1.333333  0.533333    0.133333,\n",
       " PC_Transaction    Ja  Nein  Weiß Nicht\n",
       " NoPC_Transaction                      \n",
       " Ja                10     2           1\n",
       " Nein               0     2           0,\n",
       "                  test    lambda      chi2  dof      pval    cramer     power\n",
       " 0             pearson  1.000000  6.346154  2.0  0.041875  0.650444  0.609800\n",
       " 1        cressie-read  0.666667  5.966242  2.0  0.050635  0.630674  0.581470\n",
       " 2      log-likelihood  0.000000  6.235057  2.0  0.044266  0.644725  0.601652\n",
       " 3       freeman-tukey -0.500000       NaN  2.0       NaN       NaN       NaN\n",
       " 4  mod-log-likelihood -1.000000       inf  2.0  0.000000       inf       NaN\n",
       " 5              neyman -2.000000       NaN  2.0       NaN       NaN       NaN)"
      ]
     },
     "metadata": {},
     "output_type": "display_data"
    }
   ],
   "source": [
    "# Chi-Squared Test 01: Verifier and PreConsent Mechanism\n",
    "chi2_verifier = pg.chi2_independence(\n",
    "    data=df,                \n",
    "    x=\"NoPC_Verifier\",      \n",
    "    y=\"PC_Verifier\"         \n",
    ")\n",
    "\n",
    "# Display Results\n",
    "display(Markdown(\"## Chi2-Test: Verifier and PreConsent Mechanism\"))\n",
    "display(Markdown(\"### Chi-Squared Test Results\"))\n",
    "display(chi2_verifier)\n",
    "\n",
    "\n",
    "# Chi-Squared Test 02: Noticing Unexpected Transactions and PreConsent Mechanism\n",
    "chi2_transaction = pg.chi2_independence(\n",
    "    data=df,               \n",
    "    x=\"NoPC_Transaction\",   \n",
    "    y=\"PC_Transaction\"      \n",
    ")\n",
    "\n",
    "# Display Results\n",
    "display(Markdown(\"## Chi2-Test: Noticing Unexpected Transactions and PreConsent Mechanism\"))\n",
    "display(Markdown(\"### Chi-Squared Test Results\"))\n",
    "display(chi2_transaction)"
   ]
  },
  {
   "cell_type": "code",
   "execution_count": 21,
   "id": "a708c169-455e-4130-8a7d-9dd7464ab7a0",
   "metadata": {},
   "outputs": [
    {
     "data": {
      "text/markdown": [
       "## Paired t-Test 01: Information Overload"
      ],
      "text/plain": [
       "<IPython.core.display.Markdown object>"
      ]
     },
     "metadata": {},
     "output_type": "display_data"
    },
    {
     "data": {
      "text/markdown": [
       "**Question**: Is the amount of information perceived as more overwhelming in the app without the PreConsent mechanism than in the app with the PreConsent mechanism?"
      ],
      "text/plain": [
       "<IPython.core.display.Markdown object>"
      ]
     },
     "metadata": {},
     "output_type": "display_data"
    },
    {
     "data": {
      "text/html": [
       "<div>\n",
       "<style scoped>\n",
       "    .dataframe tbody tr th:only-of-type {\n",
       "        vertical-align: middle;\n",
       "    }\n",
       "\n",
       "    .dataframe tbody tr th {\n",
       "        vertical-align: top;\n",
       "    }\n",
       "\n",
       "    .dataframe thead th {\n",
       "        text-align: right;\n",
       "    }\n",
       "</style>\n",
       "<table border=\"1\" class=\"dataframe\">\n",
       "  <thead>\n",
       "    <tr style=\"text-align: right;\">\n",
       "      <th></th>\n",
       "      <th>T</th>\n",
       "      <th>dof</th>\n",
       "      <th>alternative</th>\n",
       "      <th>p-val</th>\n",
       "      <th>CI95%</th>\n",
       "      <th>cohen-d</th>\n",
       "      <th>BF10</th>\n",
       "      <th>power</th>\n",
       "    </tr>\n",
       "  </thead>\n",
       "  <tbody>\n",
       "    <tr>\n",
       "      <th>T-test</th>\n",
       "      <td>0.186154</td>\n",
       "      <td>14</td>\n",
       "      <td>less</td>\n",
       "      <td>0.572503</td>\n",
       "      <td>[-inf, 0.7]</td>\n",
       "      <td>0.065887</td>\n",
       "      <td>0.533</td>\n",
       "      <td>0.029509</td>\n",
       "    </tr>\n",
       "  </tbody>\n",
       "</table>\n",
       "</div>"
      ],
      "text/plain": [
       "               T  dof alternative     p-val        CI95%   cohen-d   BF10     power\n",
       "T-test  0.186154   14        less  0.572503  [-inf, 0.7]  0.065887  0.533  0.029509"
      ]
     },
     "metadata": {},
     "output_type": "display_data"
    },
    {
     "data": {
      "text/markdown": [
       "## Paired t-Test 02: Clarity of Information"
      ],
      "text/plain": [
       "<IPython.core.display.Markdown object>"
      ]
     },
     "metadata": {},
     "output_type": "display_data"
    },
    {
     "data": {
      "text/markdown": [
       "**Question**: Does the perceived clarity of information differ between the app with the PreConsent mechanism and the app without it?"
      ],
      "text/plain": [
       "<IPython.core.display.Markdown object>"
      ]
     },
     "metadata": {},
     "output_type": "display_data"
    },
    {
     "data": {
      "text/html": [
       "<div>\n",
       "<style scoped>\n",
       "    .dataframe tbody tr th:only-of-type {\n",
       "        vertical-align: middle;\n",
       "    }\n",
       "\n",
       "    .dataframe tbody tr th {\n",
       "        vertical-align: top;\n",
       "    }\n",
       "\n",
       "    .dataframe thead th {\n",
       "        text-align: right;\n",
       "    }\n",
       "</style>\n",
       "<table border=\"1\" class=\"dataframe\">\n",
       "  <thead>\n",
       "    <tr style=\"text-align: right;\">\n",
       "      <th></th>\n",
       "      <th>T</th>\n",
       "      <th>dof</th>\n",
       "      <th>alternative</th>\n",
       "      <th>p-val</th>\n",
       "      <th>CI95%</th>\n",
       "      <th>cohen-d</th>\n",
       "      <th>BF10</th>\n",
       "      <th>power</th>\n",
       "    </tr>\n",
       "  </thead>\n",
       "  <tbody>\n",
       "    <tr>\n",
       "      <th>T-test</th>\n",
       "      <td>0.806947</td>\n",
       "      <td>14</td>\n",
       "      <td>two-sided</td>\n",
       "      <td>0.433193</td>\n",
       "      <td>[-0.22, 0.49]</td>\n",
       "      <td>0.234312</td>\n",
       "      <td>0.348</td>\n",
       "      <td>0.135254</td>\n",
       "    </tr>\n",
       "  </tbody>\n",
       "</table>\n",
       "</div>"
      ],
      "text/plain": [
       "               T  dof alternative     p-val          CI95%   cohen-d   BF10     power\n",
       "T-test  0.806947   14   two-sided  0.433193  [-0.22, 0.49]  0.234312  0.348  0.135254"
      ]
     },
     "metadata": {},
     "output_type": "display_data"
    },
    {
     "data": {
      "text/markdown": [
       "## Paired t-Test 03: Repetition of Informed Consent"
      ],
      "text/plain": [
       "<IPython.core.display.Markdown object>"
      ]
     },
     "metadata": {},
     "output_type": "display_data"
    },
    {
     "data": {
      "text/markdown": [
       "**Question**: Is the repetition of informed consent perceived as less disruptive in the app with the PreConsent mechanism compared to the app without it?"
      ],
      "text/plain": [
       "<IPython.core.display.Markdown object>"
      ]
     },
     "metadata": {},
     "output_type": "display_data"
    },
    {
     "data": {
      "text/html": [
       "<div>\n",
       "<style scoped>\n",
       "    .dataframe tbody tr th:only-of-type {\n",
       "        vertical-align: middle;\n",
       "    }\n",
       "\n",
       "    .dataframe tbody tr th {\n",
       "        vertical-align: top;\n",
       "    }\n",
       "\n",
       "    .dataframe thead th {\n",
       "        text-align: right;\n",
       "    }\n",
       "</style>\n",
       "<table border=\"1\" class=\"dataframe\">\n",
       "  <thead>\n",
       "    <tr style=\"text-align: right;\">\n",
       "      <th></th>\n",
       "      <th>T</th>\n",
       "      <th>dof</th>\n",
       "      <th>alternative</th>\n",
       "      <th>p-val</th>\n",
       "      <th>CI95%</th>\n",
       "      <th>cohen-d</th>\n",
       "      <th>BF10</th>\n",
       "      <th>power</th>\n",
       "    </tr>\n",
       "  </thead>\n",
       "  <tbody>\n",
       "    <tr>\n",
       "      <th>T-test</th>\n",
       "      <td>3.003354</td>\n",
       "      <td>14</td>\n",
       "      <td>greater</td>\n",
       "      <td>0.004744</td>\n",
       "      <td>[0.66, inf]</td>\n",
       "      <td>1.020716</td>\n",
       "      <td>11.632</td>\n",
       "      <td>0.982473</td>\n",
       "    </tr>\n",
       "  </tbody>\n",
       "</table>\n",
       "</div>"
      ],
      "text/plain": [
       "               T  dof alternative     p-val        CI95%   cohen-d    BF10     power\n",
       "T-test  3.003354   14     greater  0.004744  [0.66, inf]  1.020716  11.632  0.982473"
      ]
     },
     "metadata": {},
     "output_type": "display_data"
    },
    {
     "data": {
      "text/markdown": [
       "## Paired t-Test 04: Consent Process Length"
      ],
      "text/plain": [
       "<IPython.core.display.Markdown object>"
      ]
     },
     "metadata": {},
     "output_type": "display_data"
    },
    {
     "data": {
      "text/markdown": [
       "**Question**: I found the consent process per transaction too long."
      ],
      "text/plain": [
       "<IPython.core.display.Markdown object>"
      ]
     },
     "metadata": {},
     "output_type": "display_data"
    },
    {
     "data": {
      "text/html": [
       "<div>\n",
       "<style scoped>\n",
       "    .dataframe tbody tr th:only-of-type {\n",
       "        vertical-align: middle;\n",
       "    }\n",
       "\n",
       "    .dataframe tbody tr th {\n",
       "        vertical-align: top;\n",
       "    }\n",
       "\n",
       "    .dataframe thead th {\n",
       "        text-align: right;\n",
       "    }\n",
       "</style>\n",
       "<table border=\"1\" class=\"dataframe\">\n",
       "  <thead>\n",
       "    <tr style=\"text-align: right;\">\n",
       "      <th></th>\n",
       "      <th>T</th>\n",
       "      <th>dof</th>\n",
       "      <th>alternative</th>\n",
       "      <th>p-val</th>\n",
       "      <th>CI95%</th>\n",
       "      <th>cohen-d</th>\n",
       "      <th>BF10</th>\n",
       "      <th>power</th>\n",
       "    </tr>\n",
       "  </thead>\n",
       "  <tbody>\n",
       "    <tr>\n",
       "      <th>T-test</th>\n",
       "      <td>1.824855</td>\n",
       "      <td>14</td>\n",
       "      <td>greater</td>\n",
       "      <td>0.044715</td>\n",
       "      <td>[0.03, inf]</td>\n",
       "      <td>0.601867</td>\n",
       "      <td>1.979</td>\n",
       "      <td>0.716106</td>\n",
       "    </tr>\n",
       "  </tbody>\n",
       "</table>\n",
       "</div>"
      ],
      "text/plain": [
       "               T  dof alternative     p-val        CI95%   cohen-d   BF10     power\n",
       "T-test  1.824855   14     greater  0.044715  [0.03, inf]  0.601867  1.979  0.716106"
      ]
     },
     "metadata": {},
     "output_type": "display_data"
    },
    {
     "data": {
      "text/markdown": [
       "## Paired t-Test 05: Task Concentration"
      ],
      "text/plain": [
       "<IPython.core.display.Markdown object>"
      ]
     },
     "metadata": {},
     "output_type": "display_data"
    },
    {
     "data": {
      "text/markdown": [
       "**Question**: Does the app without the PreConsent mechanism require more concentration to complete the task compared to the app with it?"
      ],
      "text/plain": [
       "<IPython.core.display.Markdown object>"
      ]
     },
     "metadata": {},
     "output_type": "display_data"
    },
    {
     "data": {
      "text/html": [
       "<div>\n",
       "<style scoped>\n",
       "    .dataframe tbody tr th:only-of-type {\n",
       "        vertical-align: middle;\n",
       "    }\n",
       "\n",
       "    .dataframe tbody tr th {\n",
       "        vertical-align: top;\n",
       "    }\n",
       "\n",
       "    .dataframe thead th {\n",
       "        text-align: right;\n",
       "    }\n",
       "</style>\n",
       "<table border=\"1\" class=\"dataframe\">\n",
       "  <thead>\n",
       "    <tr style=\"text-align: right;\">\n",
       "      <th></th>\n",
       "      <th>T</th>\n",
       "      <th>dof</th>\n",
       "      <th>alternative</th>\n",
       "      <th>p-val</th>\n",
       "      <th>CI95%</th>\n",
       "      <th>cohen-d</th>\n",
       "      <th>BF10</th>\n",
       "      <th>power</th>\n",
       "    </tr>\n",
       "  </thead>\n",
       "  <tbody>\n",
       "    <tr>\n",
       "      <th>T-test</th>\n",
       "      <td>0.744618</td>\n",
       "      <td>14</td>\n",
       "      <td>greater</td>\n",
       "      <td>0.234409</td>\n",
       "      <td>[-0.36, inf]</td>\n",
       "      <td>0.184226</td>\n",
       "      <td>0.668</td>\n",
       "      <td>0.167161</td>\n",
       "    </tr>\n",
       "  </tbody>\n",
       "</table>\n",
       "</div>"
      ],
      "text/plain": [
       "               T  dof alternative     p-val         CI95%   cohen-d   BF10     power\n",
       "T-test  0.744618   14     greater  0.234409  [-0.36, inf]  0.184226  0.668  0.167161"
      ]
     },
     "metadata": {},
     "output_type": "display_data"
    }
   ],
   "source": [
    "# Define the response mapping\n",
    "response_map = {\n",
    "    \"Stimmt gar nicht\": 1,\n",
    "    \"Stimmt weitgehend nicht\": 2,\n",
    "    \"Stimmt eher nicht\": 3,\n",
    "    \"Stimmt eher\": 4,\n",
    "    \"Stimmt weitgehend\": 5,\n",
    "    \"Stimmt völlig\": 6\n",
    "}\n",
    "\n",
    "# Copy the original DataFrame to a new DataFrame\n",
    "ttest_df = df.copy()\n",
    "\n",
    "# Apply the response mapping to all columns in the new DataFrame\n",
    "for col in ttest_df.columns:\n",
    "    ttest_df[col] = ttest_df[col].map(response_map)\n",
    "\n",
    "# Drop rows with NaN values in relevant columns\n",
    "columns_to_check = ['NoPC_01', 'PC_01', 'NoPC_02', 'PC_02', 'NoPC_03', 'PC_03', 'NoPC_04', 'PC_04', 'NoPC_05', 'PC_05']\n",
    "ttest_df = ttest_df.dropna(subset=columns_to_check)\n",
    "\n",
    "# Paired t-Test 01: Information Overload\n",
    "question_01 = \"Is the amount of information perceived as more overwhelming in the app without the PreConsent mechanism than in the app with the PreConsent mechanism?\"\n",
    "t_test_01 = pg.ttest(\n",
    "    ttest_df['NoPC_01'], ttest_df['PC_01'],\n",
    "    paired=True,\n",
    "    alternative=\"less\"\n",
    ")\n",
    "display(Markdown(\"## Paired t-Test 01: Information Overload\"))\n",
    "display(Markdown(f\"**Question**: {question_01}\"))\n",
    "display(t_test_01)\n",
    "\n",
    "# Paired t-Test 02: Clarity of Information\n",
    "question_02 = \"Does the perceived clarity of information differ between the app with the PreConsent mechanism and the app without it?\"\n",
    "t_test_02 = pg.ttest(\n",
    "    ttest_df['NoPC_02'], ttest_df['PC_02'],\n",
    "    paired=True,\n",
    "    alternative=\"two-sided\"\n",
    ")\n",
    "display(Markdown(\"## Paired t-Test 02: Clarity of Information\"))\n",
    "display(Markdown(f\"**Question**: {question_02}\"))\n",
    "display(t_test_02)\n",
    "\n",
    "# Paired t-Test 03: Repetition of Informed Consent\n",
    "question_03 = \"Is the repetition of informed consent perceived as less disruptive in the app with the PreConsent mechanism compared to the app without it?\"\n",
    "t_test_03 = pg.ttest(\n",
    "    ttest_df['NoPC_03'], ttest_df['PC_03'],\n",
    "    paired=True,\n",
    "    alternative=\"greater\"\n",
    ")\n",
    "display(Markdown(\"## Paired t-Test 03: Repetition of Informed Consent\"))\n",
    "display(Markdown(f\"**Question**: {question_03}\"))\n",
    "display(t_test_03)\n",
    "\n",
    "# Paired t-Test 04: Consent Process Length\n",
    "question_04 = \"I found the consent process per transaction too long.\"\n",
    "t_test_04 = pg.ttest(\n",
    "    ttest_df['NoPC_04'], ttest_df['PC_04'],\n",
    "    paired=True,\n",
    "    alternative=\"greater\"\n",
    ")\n",
    "display(Markdown(\"## Paired t-Test 04: Consent Process Length\"))\n",
    "display(Markdown(f\"**Question**: {question_04}\"))\n",
    "display(t_test_04)\n",
    "\n",
    "# Paired t-Test 05: Task Concentration\n",
    "question_05 = \"Does the app without the PreConsent mechanism require more concentration to complete the task compared to the app with it?\"\n",
    "t_test_05 = pg.ttest(\n",
    "    ttest_df['NoPC_05'], ttest_df['PC_05'],\n",
    "    paired=True,\n",
    "    alternative=\"greater\"\n",
    ")\n",
    "display(Markdown(\"## Paired t-Test 05: Task Concentration\"))\n",
    "display(Markdown(f\"**Question**: {question_05}\"))\n",
    "display(t_test_05)\n"
   ]
  }
 ],
 "metadata": {
  "kernelspec": {
   "display_name": "Python 3 (ipykernel)",
   "language": "python",
   "name": "python3"
  },
  "language_info": {
   "codemirror_mode": {
    "name": "ipython",
    "version": 3
   },
   "file_extension": ".py",
   "mimetype": "text/x-python",
   "name": "python",
   "nbconvert_exporter": "python",
   "pygments_lexer": "ipython3",
   "version": "3.10.12"
  }
 },
 "nbformat": 4,
 "nbformat_minor": 5
}
